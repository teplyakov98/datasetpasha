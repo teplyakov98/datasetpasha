{
 "cells": [
  {
   "cell_type": "code",
   "execution_count": null,
   "metadata": {},
   "outputs": [],
   "source": []
  },
  {
   "cell_type": "markdown",
   "metadata": {},
   "source": [
    "# <font color=blue>Сбор датасета из таблиц википедии</font>\n",
    "\n",
    "В датасете будут данные о населении, ВВП (номинал и ППС), протяженности автомобильных и железных дорог, уровне промышленного производства.\n",
    "\n",
    "Датасет соберем из таблиц выложенных в английской википедии."
   ]
  },
  {
   "cell_type": "code",
   "execution_count": 1455,
   "metadata": {},
   "outputs": [],
   "source": [
    "import math\n",
    "import re\n",
    "import requests\n",
    "\n",
    "import lxml.html as lh\n",
    "import numpy as np\n",
    "import pandas as pd\n",
    "import seaborn as sns\n",
    "\n",
    "\n",
    "sns.set()\n",
    "\n",
    "\n",
    "def get_col_names(col_names):\n",
    "    \"\"\"Возвращает список именом столбцов. В таблице может быть \n",
    "    заголовок, состоящий из более чем одной строки. В таком случае\n",
    "    `pandas.read_html()` возвращает заголовок таблицы в формате \n",
    "    `pandas.core.index.MultiIndex`, где индексами являются кортежи \n",
    "    строк. Данная функция объединяет уникальные элементы таких кортежей \n",
    "    в строки через '/'. Например кортеж `('Rank', 'Rank')` заменяется\n",
    "    строкой `'Rank'`, а кортеж `('Length', 'Electrified')` строкой \n",
    "    `'Length/Electrified'`. Если элементом `col_names` является строка,\n",
    "    то она остается без изменений.\n",
    "    \n",
    "    Параметры:\n",
    "        col_names: последовательность имен столбцов в `pandas.DataFrame`\n",
    "    \n",
    "    Возвращает:\n",
    "        список строк\n",
    "    \n",
    "    Исключения:\n",
    "        ValueError, если элемент `col_names` -- не кортеж и не строка. \n",
    "    \"\"\"\n",
    "    names = []\n",
    "    for n in col_names:\n",
    "        if isinstance(n, tuple):\n",
    "            sn = ''\n",
    "            for i, w in enumerate(n):\n",
    "                if w not in n[:i]:\n",
    "                    sn += '/' + w\n",
    "            names.append(sn[1:])\n",
    "        elif isinstance(n, (str, int)):\n",
    "            names.append(n)\n",
    "        else:\n",
    "            raise ValueError(\n",
    "                \"Unsupported column name type {}\\n\"\n",
    "                \"Only types `str`, `int` and `Tuple[str]` \"\n",
    "                \"are supported.\\n\"\n",
    "                \"column name: {}\".format(type(n), n)\n",
    "            )\n",
    "    return names\n",
    "\n",
    "\n",
    "def remove_excess_info(s):\n",
    "    \"\"\"Возвращает строку, полученную из `s` удалением из нее квадратных\n",
    "    и круглых скобок с их содержимым, а также удалением символа *.\n",
    "    \n",
    "    Параметры:\n",
    "        s: Любой объект. Если не строка, объект возвращается без изменений.\n",
    "    \n",
    "    Возвращает:\n",
    "        строка\n",
    "    \"\"\"\n",
    "    if isinstance(s, str):\n",
    "        s = re.sub(r'((\\[[^\\]]*])|(\\*)|(~)|(%)|(\\([^\\)]*\\)))', '', s)\n",
    "        s = re.sub(' +', ' ', s)\n",
    "        s = s.strip()\n",
    "    return s\n",
    "\n",
    "        \n",
    "def tofloat(x):\n",
    "    if isinstance(x, str) and x in '—–' \\\n",
    "            or isinstance(x, float) and math.isnan(x):\n",
    "        return float('nan')\n",
    "    if isinstance(x, str):\n",
    "        x = re.sub('[, ]+', '', x)\n",
    "    try:\n",
    "        return float(x)\n",
    "    except ValueError:\n",
    "        raise ValueError(\n",
    "            \"Cannot convert {} to `float`\\nx=={}\".format(\n",
    "                type(x), x))\n",
    "    \n",
    "\n",
    "\n",
    "def get_tables_from_html(url):\n",
    "    \"\"\"Возвращает список таблиц найденных на веб-странице с адресом `url`.\n",
    "    \n",
    "    Параметры:\n",
    "        url: строка\n",
    "    \n",
    "    Возвращает:\n",
    "        список объектов класса `pandas.DataFrame`\n",
    "    \"\"\"\n",
    "    # Скачиваем веб-страницу\n",
    "    page = requests.get(url)\n",
    "    # Преобразуем скачанную страницу в html документ.\n",
    "    doc = lh.fromstring(page.content.decode('utf-8'))\n",
    "    # Извлекаем из документа все таблицы\n",
    "    tables = doc.xpath('//table')\n",
    "    dfs = []\n",
    "    for table in tables:\n",
    "        df = pd.read_html(lh.tostring(table))[0]\n",
    "        # Следующие 2 строчки кода решают проблему многострочных заголовков\n",
    "        col_names = get_col_names(df.columns)\n",
    "        df.columns = col_names\n",
    "        dfs.append(df)\n",
    "    return dfs\n",
    "\n",
    "\n",
    "def prepare_wiki_table(df, int_cols):\n",
    "    df = df.applymap(remove_excess_info)\n",
    "    for col in int_cols:\n",
    "        df[col] = df[col].map(tofloat)\n",
    "    return df\n",
    "\n",
    "\n",
    "country_rename = {\n",
    "    'Bahamas, The': 'Bahamas',\n",
    "    'Brunei Darussalam': 'Brunei',\n",
    "    'Cabo Verde': 'Cape Verde',\n",
    "    'Congo, Democratic Republic of': 'Democratic Republic of the Congo',\n",
    "    'Congo, Democratic Republic of the': 'Democratic Republic of the Congo',\n",
    "    'Congo, Republic of': 'Republic of the Congo',\n",
    "    'Congo, Republic of the': 'Republic of the Congo',\n",
    "    'Congo': 'Republic of the Congo',\n",
    "    'Republic of Congo': 'Republic of the Congo',\n",
    "    'Côte d\\'Ivoire': 'Cote d\\'Ivoire',\n",
    "    'Ivory Coast': 'Cote d\\'Ivoire',\n",
    "    'Curaçao': 'Curacao',\n",
    "    'Gambia, The': 'Gambia',\n",
    "    'Micronesia, Federated States of': 'Federated States of Micronesia',\n",
    "    'Saint Helena, Ascensionand Tristan da Cunha': 'Saint Helena',\n",
    "    'Swaziland': 'Eswatini',\n",
    "    'Slovak Republic': 'Slovakia',\n",
    "    'St. Kitts and Nevis': 'Saint Kitts and Nevis',\n",
    "    'St. Lucia': 'Saint Lucia',\n",
    "    'St. Vincent and the Grenadines': 'Saint Vincent and the Grenadines',\n",
    "    'São Tomé and Príncipe': 'Sao Tome and Principe',\n",
    "    'Korea, South': 'South Korea',\n",
    "    'Korea, North': 'North Korea',\n",
    "    'Timor-Leste': 'East Timor', \n",
    "    'West Bank and Gaza': 'Palestine',\n",
    "    'West Bank': 'Palestine',\n",
    "}"
   ]
  },
  {
   "cell_type": "markdown",
   "metadata": {},
   "source": [
    "### Автодороги"
   ]
  },
  {
   "cell_type": "code",
   "execution_count": 1456,
   "metadata": {},
   "outputs": [],
   "source": [
    "url = \"https://en.wikipedia.org/wiki/List_of_countries_by_road_network_size\"\n",
    "dfs = get_tables_from_html(url)"
   ]
  },
  {
   "cell_type": "code",
   "execution_count": 1457,
   "metadata": {},
   "outputs": [
    {
     "data": {
      "text/plain": [
       "3"
      ]
     },
     "execution_count": 1457,
     "metadata": {},
     "output_type": "execute_result"
    }
   ],
   "source": [
    "len(dfs)"
   ]
  },
  {
   "cell_type": "code",
   "execution_count": 1458,
   "metadata": {
    "scrolled": true
   },
   "outputs": [
    {
     "data": {
      "text/html": [
       "<div>\n",
       "<style scoped>\n",
       "    .dataframe tbody tr th:only-of-type {\n",
       "        vertical-align: middle;\n",
       "    }\n",
       "\n",
       "    .dataframe tbody tr th {\n",
       "        vertical-align: top;\n",
       "    }\n",
       "\n",
       "    .dataframe thead th {\n",
       "        text-align: right;\n",
       "    }\n",
       "</style>\n",
       "<table border=\"1\" class=\"dataframe\">\n",
       "  <thead>\n",
       "    <tr style=\"text-align: right;\">\n",
       "      <th></th>\n",
       "      <th>Rank</th>\n",
       "      <th>Country</th>\n",
       "      <th>Length (km)/Roads</th>\n",
       "      <th>Length (km)/Expressways</th>\n",
       "      <th>Date of information</th>\n",
       "    </tr>\n",
       "  </thead>\n",
       "  <tbody>\n",
       "    <tr>\n",
       "      <td>0</td>\n",
       "      <td>1</td>\n",
       "      <td>United States</td>\n",
       "      <td>6853024</td>\n",
       "      <td>108394</td>\n",
       "      <td>2017[1]</td>\n",
       "    </tr>\n",
       "    <tr>\n",
       "      <td>1</td>\n",
       "      <td>—</td>\n",
       "      <td>European Union[n 1]</td>\n",
       "      <td>6250547</td>\n",
       "      <td>84190</td>\n",
       "      <td>2014-2018[n 2]</td>\n",
       "    </tr>\n",
       "    <tr>\n",
       "      <td>2</td>\n",
       "      <td>2</td>\n",
       "      <td>India</td>\n",
       "      <td>5903293</td>\n",
       "      <td>1583</td>\n",
       "      <td>2019[3]</td>\n",
       "    </tr>\n",
       "    <tr>\n",
       "      <td>3</td>\n",
       "      <td>3</td>\n",
       "      <td>China</td>\n",
       "      <td>4,846,500[4]</td>\n",
       "      <td>142500</td>\n",
       "      <td>2018[5]</td>\n",
       "    </tr>\n",
       "    <tr>\n",
       "      <td>4</td>\n",
       "      <td>4</td>\n",
       "      <td>Brazil</td>\n",
       "      <td>1751868</td>\n",
       "      <td>11000</td>\n",
       "      <td>2013</td>\n",
       "    </tr>\n",
       "  </tbody>\n",
       "</table>\n",
       "</div>"
      ],
      "text/plain": [
       "  Rank              Country Length (km)/Roads Length (km)/Expressways  \\\n",
       "0    1        United States           6853024                  108394   \n",
       "1    —  European Union[n 1]           6250547                   84190   \n",
       "2    2                India           5903293                    1583   \n",
       "3    3                China      4,846,500[4]                  142500   \n",
       "4    4               Brazil           1751868                   11000   \n",
       "\n",
       "  Date of information  \n",
       "0             2017[1]  \n",
       "1      2014-2018[n 2]  \n",
       "2             2019[3]  \n",
       "3             2018[5]  \n",
       "4                2013  "
      ]
     },
     "execution_count": 1458,
     "metadata": {},
     "output_type": "execute_result"
    }
   ],
   "source": [
    "dfs[1].head()"
   ]
  },
  {
   "cell_type": "code",
   "execution_count": 1459,
   "metadata": {
    "scrolled": false
   },
   "outputs": [],
   "source": [
    "roads_df = prepare_wiki_table(dfs[1], ['Rank', 'Length (km)/Roads', 'Length (km)/Expressways'])\n"
   ]
  },
  {
   "cell_type": "code",
   "execution_count": 1460,
   "metadata": {},
   "outputs": [
    {
     "data": {
      "text/html": [
       "<div>\n",
       "<style scoped>\n",
       "    .dataframe tbody tr th:only-of-type {\n",
       "        vertical-align: middle;\n",
       "    }\n",
       "\n",
       "    .dataframe tbody tr th {\n",
       "        vertical-align: top;\n",
       "    }\n",
       "\n",
       "    .dataframe thead th {\n",
       "        text-align: right;\n",
       "    }\n",
       "</style>\n",
       "<table border=\"1\" class=\"dataframe\">\n",
       "  <thead>\n",
       "    <tr style=\"text-align: right;\">\n",
       "      <th></th>\n",
       "      <th>Rank</th>\n",
       "      <th>Country</th>\n",
       "      <th>Length (km)/Roads</th>\n",
       "      <th>Length (km)/Expressways</th>\n",
       "      <th>Date of information</th>\n",
       "    </tr>\n",
       "  </thead>\n",
       "  <tbody>\n",
       "    <tr>\n",
       "      <td>0</td>\n",
       "      <td>1.0</td>\n",
       "      <td>United States</td>\n",
       "      <td>6853024.0</td>\n",
       "      <td>108394.0</td>\n",
       "      <td>2017</td>\n",
       "    </tr>\n",
       "    <tr>\n",
       "      <td>1</td>\n",
       "      <td>NaN</td>\n",
       "      <td>European Union</td>\n",
       "      <td>6250547.0</td>\n",
       "      <td>84190.0</td>\n",
       "      <td>2014-2018</td>\n",
       "    </tr>\n",
       "    <tr>\n",
       "      <td>2</td>\n",
       "      <td>2.0</td>\n",
       "      <td>India</td>\n",
       "      <td>5903293.0</td>\n",
       "      <td>1583.0</td>\n",
       "      <td>2019</td>\n",
       "    </tr>\n",
       "    <tr>\n",
       "      <td>3</td>\n",
       "      <td>3.0</td>\n",
       "      <td>China</td>\n",
       "      <td>4846500.0</td>\n",
       "      <td>142500.0</td>\n",
       "      <td>2018</td>\n",
       "    </tr>\n",
       "    <tr>\n",
       "      <td>4</td>\n",
       "      <td>4.0</td>\n",
       "      <td>Brazil</td>\n",
       "      <td>1751868.0</td>\n",
       "      <td>11000.0</td>\n",
       "      <td>2013</td>\n",
       "    </tr>\n",
       "  </tbody>\n",
       "</table>\n",
       "</div>"
      ],
      "text/plain": [
       "   Rank         Country  Length (km)/Roads  Length (km)/Expressways  \\\n",
       "0   1.0   United States          6853024.0                 108394.0   \n",
       "1   NaN  European Union          6250547.0                  84190.0   \n",
       "2   2.0           India          5903293.0                   1583.0   \n",
       "3   3.0           China          4846500.0                 142500.0   \n",
       "4   4.0          Brazil          1751868.0                  11000.0   \n",
       "\n",
       "  Date of information  \n",
       "0                2017  \n",
       "1           2014-2018  \n",
       "2                2019  \n",
       "3                2018  \n",
       "4                2013  "
      ]
     },
     "execution_count": 1460,
     "metadata": {},
     "output_type": "execute_result"
    }
   ],
   "source": [
    "roads_df.head()"
   ]
  },
  {
   "cell_type": "code",
   "execution_count": 1461,
   "metadata": {},
   "outputs": [
    {
     "name": "stdout",
     "output_type": "stream",
     "text": [
      "Rank                       float64\n",
      "Country                     object\n",
      "Length (km)/Roads          float64\n",
      "Length (km)/Expressways    float64\n",
      "Date of information         object\n",
      "dtype: object\n"
     ]
    }
   ],
   "source": [
    "print(roads_df.dtypes)"
   ]
  },
  {
   "cell_type": "code",
   "execution_count": 1462,
   "metadata": {},
   "outputs": [],
   "source": [
    "roads_df = roads_df.set_index('Country')\n",
    "roads_df = roads_df.rename(index=country_rename)"
   ]
  },
  {
   "cell_type": "markdown",
   "metadata": {},
   "source": [
    "### Железные дороги"
   ]
  },
  {
   "cell_type": "code",
   "execution_count": 1463,
   "metadata": {},
   "outputs": [],
   "source": [
    "url = \"https://en.wikipedia.org/wiki/List_of_countries_by_rail_transport_network_size\"\n",
    "dfs = get_tables_from_html(url)"
   ]
  },
  {
   "cell_type": "code",
   "execution_count": 1464,
   "metadata": {},
   "outputs": [
    {
     "data": {
      "text/plain": [
       "3"
      ]
     },
     "execution_count": 1464,
     "metadata": {},
     "output_type": "execute_result"
    }
   ],
   "source": [
    "len(dfs)"
   ]
  },
  {
   "cell_type": "code",
   "execution_count": 1465,
   "metadata": {},
   "outputs": [
    {
     "data": {
      "text/html": [
       "<div>\n",
       "<style scoped>\n",
       "    .dataframe tbody tr th:only-of-type {\n",
       "        vertical-align: middle;\n",
       "    }\n",
       "\n",
       "    .dataframe tbody tr th {\n",
       "        vertical-align: top;\n",
       "    }\n",
       "\n",
       "    .dataframe thead th {\n",
       "        text-align: right;\n",
       "    }\n",
       "</style>\n",
       "<table border=\"1\" class=\"dataframe\">\n",
       "  <thead>\n",
       "    <tr style=\"text-align: right;\">\n",
       "      <th></th>\n",
       "      <th>Rank</th>\n",
       "      <th>Country</th>\n",
       "      <th>Length(km)</th>\n",
       "      <th>Electrified length(km)</th>\n",
       "      <th>Historic peak length(km)</th>\n",
       "      <th>Area (km2) per km track</th>\n",
       "      <th>Population per km track</th>\n",
       "      <th>Nationalised or Private</th>\n",
       "      <th>Data year</th>\n",
       "      <th>Notes</th>\n",
       "    </tr>\n",
       "  </thead>\n",
       "  <tbody>\n",
       "    <tr>\n",
       "      <td>0</td>\n",
       "      <td>—</td>\n",
       "      <td>European Union[n 1]</td>\n",
       "      <td>218783.0</td>\n",
       "      <td>116561</td>\n",
       "      <td>189,297[n 2]</td>\n",
       "      <td>20.46</td>\n",
       "      <td>2347</td>\n",
       "      <td>Both</td>\n",
       "      <td>2016-17</td>\n",
       "      <td>[3]</td>\n",
       "    </tr>\n",
       "    <tr>\n",
       "      <td>1</td>\n",
       "      <td>1</td>\n",
       "      <td>United States</td>\n",
       "      <td>149910.0</td>\n",
       "      <td>1,600[4]</td>\n",
       "      <td>409,000[5]</td>\n",
       "      <td>65.55</td>\n",
       "      <td>2060</td>\n",
       "      <td>Private</td>\n",
       "      <td>2017</td>\n",
       "      <td>[3]</td>\n",
       "    </tr>\n",
       "    <tr>\n",
       "      <td>2</td>\n",
       "      <td>2</td>\n",
       "      <td>China</td>\n",
       "      <td>131000.0</td>\n",
       "      <td>90,000[6]</td>\n",
       "      <td>NaN</td>\n",
       "      <td>75.6[6]</td>\n",
       "      <td>10,945[6]</td>\n",
       "      <td>Nationalised</td>\n",
       "      <td>2017</td>\n",
       "      <td>[6]</td>\n",
       "    </tr>\n",
       "    <tr>\n",
       "      <td>3</td>\n",
       "      <td>3</td>\n",
       "      <td>Russia</td>\n",
       "      <td>85500.0</td>\n",
       "      <td>43700</td>\n",
       "      <td>NaN</td>\n",
       "      <td>199.98</td>\n",
       "      <td>1678</td>\n",
       "      <td>Nationalised</td>\n",
       "      <td>2017</td>\n",
       "      <td>[7]</td>\n",
       "    </tr>\n",
       "    <tr>\n",
       "      <td>4</td>\n",
       "      <td>4</td>\n",
       "      <td>India</td>\n",
       "      <td>68442.0</td>\n",
       "      <td>35488</td>\n",
       "      <td>NaN</td>\n",
       "      <td>48.8</td>\n",
       "      <td>19656</td>\n",
       "      <td>Nationalised</td>\n",
       "      <td>2019</td>\n",
       "      <td>[8]</td>\n",
       "    </tr>\n",
       "  </tbody>\n",
       "</table>\n",
       "</div>"
      ],
      "text/plain": [
       "  Rank              Country  Length(km) Electrified length(km)  \\\n",
       "0    —  European Union[n 1]    218783.0                 116561   \n",
       "1    1        United States    149910.0               1,600[4]   \n",
       "2    2                China    131000.0              90,000[6]   \n",
       "3    3               Russia     85500.0                  43700   \n",
       "4    4                India     68442.0                  35488   \n",
       "\n",
       "  Historic peak length(km) Area (km2) per km track Population per km track  \\\n",
       "0             189,297[n 2]                   20.46                    2347   \n",
       "1               409,000[5]                   65.55                    2060   \n",
       "2                      NaN                 75.6[6]               10,945[6]   \n",
       "3                      NaN                  199.98                    1678   \n",
       "4                      NaN                    48.8                   19656   \n",
       "\n",
       "  Nationalised or Private Data year Notes  \n",
       "0                    Both   2016-17   [3]  \n",
       "1                 Private      2017   [3]  \n",
       "2            Nationalised      2017   [6]  \n",
       "3            Nationalised      2017   [7]  \n",
       "4            Nationalised      2019   [8]  "
      ]
     },
     "execution_count": 1465,
     "metadata": {},
     "output_type": "execute_result"
    }
   ],
   "source": [
    "dfs[1].head()"
   ]
  },
  {
   "cell_type": "code",
   "execution_count": 1466,
   "metadata": {},
   "outputs": [],
   "source": [
    "rail = prepare_wiki_table(\n",
    "    dfs[1],\n",
    "    ['Rank', 'Length(km)', 'Electrified length(km)', 'Area (km2) per km track', 'Population per km track']\n",
    ") "
   ]
  },
  {
   "cell_type": "code",
   "execution_count": 1467,
   "metadata": {
    "scrolled": true
   },
   "outputs": [
    {
     "data": {
      "text/html": [
       "<div>\n",
       "<style scoped>\n",
       "    .dataframe tbody tr th:only-of-type {\n",
       "        vertical-align: middle;\n",
       "    }\n",
       "\n",
       "    .dataframe tbody tr th {\n",
       "        vertical-align: top;\n",
       "    }\n",
       "\n",
       "    .dataframe thead th {\n",
       "        text-align: right;\n",
       "    }\n",
       "</style>\n",
       "<table border=\"1\" class=\"dataframe\">\n",
       "  <thead>\n",
       "    <tr style=\"text-align: right;\">\n",
       "      <th></th>\n",
       "      <th>Rank</th>\n",
       "      <th>Length(km)</th>\n",
       "      <th>Electrified length(km)</th>\n",
       "      <th>Area (km2) per km track</th>\n",
       "      <th>Population per km track</th>\n",
       "    </tr>\n",
       "  </thead>\n",
       "  <tbody>\n",
       "    <tr>\n",
       "      <td>count</td>\n",
       "      <td>147.000000</td>\n",
       "      <td>1.490000e+02</td>\n",
       "      <td>67.000000</td>\n",
       "      <td>149.000000</td>\n",
       "      <td>1.490000e+02</td>\n",
       "    </tr>\n",
       "    <tr>\n",
       "      <td>mean</td>\n",
       "      <td>73.986395</td>\n",
       "      <td>1.839013e+04</td>\n",
       "      <td>7268.353731</td>\n",
       "      <td>1207.739262</td>\n",
       "      <td>3.659814e+04</td>\n",
       "    </tr>\n",
       "    <tr>\n",
       "      <td>std</td>\n",
       "      <td>42.579175</td>\n",
       "      <td>1.145622e+05</td>\n",
       "      <td>18789.504775</td>\n",
       "      <td>6606.314900</td>\n",
       "      <td>1.503652e+05</td>\n",
       "    </tr>\n",
       "    <tr>\n",
       "      <td>min</td>\n",
       "      <td>1.000000</td>\n",
       "      <td>3.000000e-01</td>\n",
       "      <td>0.000000</td>\n",
       "      <td>1.180000</td>\n",
       "      <td>6.740000e+02</td>\n",
       "    </tr>\n",
       "    <tr>\n",
       "      <td>25%</td>\n",
       "      <td>37.500000</td>\n",
       "      <td>6.220000e+02</td>\n",
       "      <td>313.000000</td>\n",
       "      <td>33.800000</td>\n",
       "      <td>2.347000e+03</td>\n",
       "    </tr>\n",
       "    <tr>\n",
       "      <td>50%</td>\n",
       "      <td>74.000000</td>\n",
       "      <td>1.931000e+03</td>\n",
       "      <td>1587.000000</td>\n",
       "      <td>123.040000</td>\n",
       "      <td>6.604000e+03</td>\n",
       "    </tr>\n",
       "    <tr>\n",
       "      <td>75%</td>\n",
       "      <td>110.000000</td>\n",
       "      <td>5.459000e+03</td>\n",
       "      <td>4212.500000</td>\n",
       "      <td>330.450000</td>\n",
       "      <td>1.653400e+04</td>\n",
       "    </tr>\n",
       "    <tr>\n",
       "      <td>max</td>\n",
       "      <td>147.000000</td>\n",
       "      <td>1.370782e+06</td>\n",
       "      <td>116561.000000</td>\n",
       "      <td>59200.000000</td>\n",
       "      <td>1.557550e+06</td>\n",
       "    </tr>\n",
       "  </tbody>\n",
       "</table>\n",
       "</div>"
      ],
      "text/plain": [
       "             Rank    Length(km)  Electrified length(km)  \\\n",
       "count  147.000000  1.490000e+02               67.000000   \n",
       "mean    73.986395  1.839013e+04             7268.353731   \n",
       "std     42.579175  1.145622e+05            18789.504775   \n",
       "min      1.000000  3.000000e-01                0.000000   \n",
       "25%     37.500000  6.220000e+02              313.000000   \n",
       "50%     74.000000  1.931000e+03             1587.000000   \n",
       "75%    110.000000  5.459000e+03             4212.500000   \n",
       "max    147.000000  1.370782e+06           116561.000000   \n",
       "\n",
       "       Area (km2) per km track  Population per km track  \n",
       "count               149.000000             1.490000e+02  \n",
       "mean               1207.739262             3.659814e+04  \n",
       "std                6606.314900             1.503652e+05  \n",
       "min                   1.180000             6.740000e+02  \n",
       "25%                  33.800000             2.347000e+03  \n",
       "50%                 123.040000             6.604000e+03  \n",
       "75%                 330.450000             1.653400e+04  \n",
       "max               59200.000000             1.557550e+06  "
      ]
     },
     "execution_count": 1467,
     "metadata": {},
     "output_type": "execute_result"
    }
   ],
   "source": [
    "rail.describe()"
   ]
  },
  {
   "cell_type": "code",
   "execution_count": 1468,
   "metadata": {},
   "outputs": [],
   "source": [
    "rail = rail.set_index('Country')\n",
    "rail = rail.rename(index=country_rename)"
   ]
  },
  {
   "cell_type": "markdown",
   "metadata": {},
   "source": [
    "### Население"
   ]
  },
  {
   "cell_type": "code",
   "execution_count": 1469,
   "metadata": {},
   "outputs": [],
   "source": [
    "url = \"https://en.wikipedia.org/wiki/List_of_countries_and_dependencies_by_population\"\n",
    "dfs = get_tables_from_html(url)"
   ]
  },
  {
   "cell_type": "code",
   "execution_count": 1470,
   "metadata": {},
   "outputs": [
    {
     "data": {
      "text/plain": [
       "2"
      ]
     },
     "execution_count": 1470,
     "metadata": {},
     "output_type": "execute_result"
    }
   ],
   "source": [
    "len(dfs)"
   ]
  },
  {
   "cell_type": "code",
   "execution_count": 1471,
   "metadata": {},
   "outputs": [
    {
     "data": {
      "text/html": [
       "<div>\n",
       "<style scoped>\n",
       "    .dataframe tbody tr th:only-of-type {\n",
       "        vertical-align: middle;\n",
       "    }\n",
       "\n",
       "    .dataframe tbody tr th {\n",
       "        vertical-align: top;\n",
       "    }\n",
       "\n",
       "    .dataframe thead th {\n",
       "        text-align: right;\n",
       "    }\n",
       "</style>\n",
       "<table border=\"1\" class=\"dataframe\">\n",
       "  <thead>\n",
       "    <tr style=\"text-align: right;\">\n",
       "      <th></th>\n",
       "      <th>Rank</th>\n",
       "      <th>Country(or dependent territory)</th>\n",
       "      <th>Population</th>\n",
       "      <th>Date</th>\n",
       "      <th>% of worldpopulation</th>\n",
       "      <th>Source</th>\n",
       "    </tr>\n",
       "  </thead>\n",
       "  <tbody>\n",
       "    <tr>\n",
       "      <td>0</td>\n",
       "      <td>1</td>\n",
       "      <td>China[b]</td>\n",
       "      <td>1400260000</td>\n",
       "      <td>2 December 2019</td>\n",
       "      <td>18.1%</td>\n",
       "      <td>Official population clock[3]</td>\n",
       "    </tr>\n",
       "    <tr>\n",
       "      <td>1</td>\n",
       "      <td>2</td>\n",
       "      <td>India</td>\n",
       "      <td>1355550000</td>\n",
       "      <td>2 December 2019</td>\n",
       "      <td>17.5%</td>\n",
       "      <td>Official population clock[4]</td>\n",
       "    </tr>\n",
       "    <tr>\n",
       "      <td>2</td>\n",
       "      <td>3</td>\n",
       "      <td>United States[c]</td>\n",
       "      <td>330343000</td>\n",
       "      <td>2 December 2019</td>\n",
       "      <td>4.26%</td>\n",
       "      <td>Official population clock[5]</td>\n",
       "    </tr>\n",
       "    <tr>\n",
       "      <td>3</td>\n",
       "      <td>4</td>\n",
       "      <td>Indonesia</td>\n",
       "      <td>266911900</td>\n",
       "      <td>1 July 2019</td>\n",
       "      <td>NaN</td>\n",
       "      <td>Official annual projection[6]</td>\n",
       "    </tr>\n",
       "    <tr>\n",
       "      <td>4</td>\n",
       "      <td>5</td>\n",
       "      <td>Pakistan</td>\n",
       "      <td>217802000</td>\n",
       "      <td>2 December 2019</td>\n",
       "      <td>2.81%</td>\n",
       "      <td>Official population clock[7]</td>\n",
       "    </tr>\n",
       "  </tbody>\n",
       "</table>\n",
       "</div>"
      ],
      "text/plain": [
       "  Rank Country(or dependent territory)  Population             Date  \\\n",
       "0    1                        China[b]  1400260000  2 December 2019   \n",
       "1    2                           India  1355550000  2 December 2019   \n",
       "2    3                United States[c]   330343000  2 December 2019   \n",
       "3    4                       Indonesia   266911900      1 July 2019   \n",
       "4    5                        Pakistan   217802000  2 December 2019   \n",
       "\n",
       "  % of worldpopulation                         Source  \n",
       "0                18.1%   Official population clock[3]  \n",
       "1                17.5%   Official population clock[4]  \n",
       "2                4.26%   Official population clock[5]  \n",
       "3                  NaN  Official annual projection[6]  \n",
       "4                2.81%   Official population clock[7]  "
      ]
     },
     "execution_count": 1471,
     "metadata": {},
     "output_type": "execute_result"
    }
   ],
   "source": [
    "dfs[0].head()"
   ]
  },
  {
   "cell_type": "code",
   "execution_count": 1472,
   "metadata": {},
   "outputs": [],
   "source": [
    "population = prepare_wiki_table(dfs[0], ['Rank', 'Population', '% of worldpopulation'])"
   ]
  },
  {
   "cell_type": "code",
   "execution_count": 1473,
   "metadata": {
    "scrolled": true
   },
   "outputs": [
    {
     "data": {
      "text/html": [
       "<div>\n",
       "<style scoped>\n",
       "    .dataframe tbody tr th:only-of-type {\n",
       "        vertical-align: middle;\n",
       "    }\n",
       "\n",
       "    .dataframe tbody tr th {\n",
       "        vertical-align: top;\n",
       "    }\n",
       "\n",
       "    .dataframe thead th {\n",
       "        text-align: right;\n",
       "    }\n",
       "</style>\n",
       "<table border=\"1\" class=\"dataframe\">\n",
       "  <thead>\n",
       "    <tr style=\"text-align: right;\">\n",
       "      <th></th>\n",
       "      <th>Rank</th>\n",
       "      <th>Country(or dependent territory)</th>\n",
       "      <th>Population</th>\n",
       "      <th>Date</th>\n",
       "      <th>% of worldpopulation</th>\n",
       "      <th>Source</th>\n",
       "    </tr>\n",
       "  </thead>\n",
       "  <tbody>\n",
       "    <tr>\n",
       "      <td>0</td>\n",
       "      <td>1.0</td>\n",
       "      <td>China</td>\n",
       "      <td>1.400260e+09</td>\n",
       "      <td>2 December 2019</td>\n",
       "      <td>18.10</td>\n",
       "      <td>Official population clock</td>\n",
       "    </tr>\n",
       "    <tr>\n",
       "      <td>1</td>\n",
       "      <td>2.0</td>\n",
       "      <td>India</td>\n",
       "      <td>1.355550e+09</td>\n",
       "      <td>2 December 2019</td>\n",
       "      <td>17.50</td>\n",
       "      <td>Official population clock</td>\n",
       "    </tr>\n",
       "    <tr>\n",
       "      <td>2</td>\n",
       "      <td>3.0</td>\n",
       "      <td>United States</td>\n",
       "      <td>3.303430e+08</td>\n",
       "      <td>2 December 2019</td>\n",
       "      <td>4.26</td>\n",
       "      <td>Official population clock</td>\n",
       "    </tr>\n",
       "    <tr>\n",
       "      <td>3</td>\n",
       "      <td>4.0</td>\n",
       "      <td>Indonesia</td>\n",
       "      <td>2.669119e+08</td>\n",
       "      <td>1 July 2019</td>\n",
       "      <td>NaN</td>\n",
       "      <td>Official annual projection</td>\n",
       "    </tr>\n",
       "    <tr>\n",
       "      <td>4</td>\n",
       "      <td>5.0</td>\n",
       "      <td>Pakistan</td>\n",
       "      <td>2.178020e+08</td>\n",
       "      <td>2 December 2019</td>\n",
       "      <td>2.81</td>\n",
       "      <td>Official population clock</td>\n",
       "    </tr>\n",
       "  </tbody>\n",
       "</table>\n",
       "</div>"
      ],
      "text/plain": [
       "   Rank Country(or dependent territory)    Population             Date  \\\n",
       "0   1.0                           China  1.400260e+09  2 December 2019   \n",
       "1   2.0                           India  1.355550e+09  2 December 2019   \n",
       "2   3.0                   United States  3.303430e+08  2 December 2019   \n",
       "3   4.0                       Indonesia  2.669119e+08      1 July 2019   \n",
       "4   5.0                        Pakistan  2.178020e+08  2 December 2019   \n",
       "\n",
       "   % of worldpopulation                      Source  \n",
       "0                 18.10   Official population clock  \n",
       "1                 17.50   Official population clock  \n",
       "2                  4.26   Official population clock  \n",
       "3                   NaN  Official annual projection  \n",
       "4                  2.81   Official population clock  "
      ]
     },
     "execution_count": 1473,
     "metadata": {},
     "output_type": "execute_result"
    }
   ],
   "source": [
    "population.head()"
   ]
  },
  {
   "cell_type": "code",
   "execution_count": 1474,
   "metadata": {},
   "outputs": [],
   "source": [
    "world_population = population.loc[population[\"Country(or dependent territory)\"] == 'World'].loc[241, 'Population']"
   ]
  },
  {
   "cell_type": "code",
   "execution_count": 1475,
   "metadata": {},
   "outputs": [
    {
     "data": {
      "text/plain": [
       "7751517000.0"
      ]
     },
     "execution_count": 1475,
     "metadata": {},
     "output_type": "execute_result"
    }
   ],
   "source": [
    "world_population"
   ]
  },
  {
   "cell_type": "code",
   "execution_count": null,
   "metadata": {},
   "outputs": [],
   "source": []
  },
  {
   "cell_type": "code",
   "execution_count": 1476,
   "metadata": {},
   "outputs": [],
   "source": [
    "population['% of worldpopulation'] = population['Population'] / world_population"
   ]
  },
  {
   "cell_type": "code",
   "execution_count": 1477,
   "metadata": {
    "scrolled": true
   },
   "outputs": [
    {
     "data": {
      "text/html": [
       "<div>\n",
       "<style scoped>\n",
       "    .dataframe tbody tr th:only-of-type {\n",
       "        vertical-align: middle;\n",
       "    }\n",
       "\n",
       "    .dataframe tbody tr th {\n",
       "        vertical-align: top;\n",
       "    }\n",
       "\n",
       "    .dataframe thead th {\n",
       "        text-align: right;\n",
       "    }\n",
       "</style>\n",
       "<table border=\"1\" class=\"dataframe\">\n",
       "  <thead>\n",
       "    <tr style=\"text-align: right;\">\n",
       "      <th></th>\n",
       "      <th>Rank</th>\n",
       "      <th>Country(or dependent territory)</th>\n",
       "      <th>Population</th>\n",
       "      <th>Date</th>\n",
       "      <th>% of worldpopulation</th>\n",
       "      <th>Source</th>\n",
       "    </tr>\n",
       "  </thead>\n",
       "  <tbody>\n",
       "    <tr>\n",
       "      <td>0</td>\n",
       "      <td>1.0</td>\n",
       "      <td>China</td>\n",
       "      <td>1.400260e+09</td>\n",
       "      <td>2 December 2019</td>\n",
       "      <td>0.180643</td>\n",
       "      <td>Official population clock</td>\n",
       "    </tr>\n",
       "    <tr>\n",
       "      <td>1</td>\n",
       "      <td>2.0</td>\n",
       "      <td>India</td>\n",
       "      <td>1.355550e+09</td>\n",
       "      <td>2 December 2019</td>\n",
       "      <td>0.174875</td>\n",
       "      <td>Official population clock</td>\n",
       "    </tr>\n",
       "    <tr>\n",
       "      <td>2</td>\n",
       "      <td>3.0</td>\n",
       "      <td>United States</td>\n",
       "      <td>3.303430e+08</td>\n",
       "      <td>2 December 2019</td>\n",
       "      <td>0.042617</td>\n",
       "      <td>Official population clock</td>\n",
       "    </tr>\n",
       "    <tr>\n",
       "      <td>3</td>\n",
       "      <td>4.0</td>\n",
       "      <td>Indonesia</td>\n",
       "      <td>2.669119e+08</td>\n",
       "      <td>1 July 2019</td>\n",
       "      <td>0.034434</td>\n",
       "      <td>Official annual projection</td>\n",
       "    </tr>\n",
       "    <tr>\n",
       "      <td>4</td>\n",
       "      <td>5.0</td>\n",
       "      <td>Pakistan</td>\n",
       "      <td>2.178020e+08</td>\n",
       "      <td>2 December 2019</td>\n",
       "      <td>0.028098</td>\n",
       "      <td>Official population clock</td>\n",
       "    </tr>\n",
       "  </tbody>\n",
       "</table>\n",
       "</div>"
      ],
      "text/plain": [
       "   Rank Country(or dependent territory)    Population             Date  \\\n",
       "0   1.0                           China  1.400260e+09  2 December 2019   \n",
       "1   2.0                           India  1.355550e+09  2 December 2019   \n",
       "2   3.0                   United States  3.303430e+08  2 December 2019   \n",
       "3   4.0                       Indonesia  2.669119e+08      1 July 2019   \n",
       "4   5.0                        Pakistan  2.178020e+08  2 December 2019   \n",
       "\n",
       "   % of worldpopulation                      Source  \n",
       "0              0.180643   Official population clock  \n",
       "1              0.174875   Official population clock  \n",
       "2              0.042617   Official population clock  \n",
       "3              0.034434  Official annual projection  \n",
       "4              0.028098   Official population clock  "
      ]
     },
     "execution_count": 1477,
     "metadata": {},
     "output_type": "execute_result"
    }
   ],
   "source": [
    "population.head()"
   ]
  },
  {
   "cell_type": "code",
   "execution_count": 1478,
   "metadata": {},
   "outputs": [],
   "source": [
    "population = population.set_index('Country(or dependent territory)')\n",
    "population = population.rename(index=country_rename)"
   ]
  },
  {
   "cell_type": "markdown",
   "metadata": {},
   "source": [
    "### ВВП по номиналу"
   ]
  },
  {
   "cell_type": "code",
   "execution_count": 1479,
   "metadata": {},
   "outputs": [],
   "source": [
    "url = \"https://en.wikipedia.org/wiki/List_of_countries_by_GDP_(nominal)\"\n",
    "dfs = get_tables_from_html(url)"
   ]
  },
  {
   "cell_type": "code",
   "execution_count": 1480,
   "metadata": {},
   "outputs": [
    {
     "data": {
      "text/plain": [
       "10"
      ]
     },
     "execution_count": 1480,
     "metadata": {},
     "output_type": "execute_result"
    }
   ],
   "source": [
    "len(dfs)"
   ]
  },
  {
   "cell_type": "code",
   "execution_count": 1481,
   "metadata": {},
   "outputs": [
    {
     "data": {
      "text/html": [
       "<div>\n",
       "<style scoped>\n",
       "    .dataframe tbody tr th:only-of-type {\n",
       "        vertical-align: middle;\n",
       "    }\n",
       "\n",
       "    .dataframe tbody tr th {\n",
       "        vertical-align: top;\n",
       "    }\n",
       "\n",
       "    .dataframe thead th {\n",
       "        text-align: right;\n",
       "    }\n",
       "</style>\n",
       "<table border=\"1\" class=\"dataframe\">\n",
       "  <thead>\n",
       "    <tr style=\"text-align: right;\">\n",
       "      <th></th>\n",
       "      <th>0</th>\n",
       "    </tr>\n",
       "  </thead>\n",
       "  <tbody>\n",
       "    <tr>\n",
       "      <td>0</td>\n",
       "      <td>Largest economies by nominal GDP in 2019[1]</td>\n",
       "    </tr>\n",
       "  </tbody>\n",
       "</table>\n",
       "</div>"
      ],
      "text/plain": [
       "                                             0\n",
       "0  Largest economies by nominal GDP in 2019[1]"
      ]
     },
     "execution_count": 1481,
     "metadata": {},
     "output_type": "execute_result"
    }
   ],
   "source": [
    "dfs[0].head()"
   ]
  },
  {
   "cell_type": "code",
   "execution_count": 1482,
   "metadata": {},
   "outputs": [
    {
     "data": {
      "text/html": [
       "<div>\n",
       "<style scoped>\n",
       "    .dataframe tbody tr th:only-of-type {\n",
       "        vertical-align: middle;\n",
       "    }\n",
       "\n",
       "    .dataframe tbody tr th {\n",
       "        vertical-align: top;\n",
       "    }\n",
       "\n",
       "    .dataframe thead th {\n",
       "        text-align: right;\n",
       "    }\n",
       "</style>\n",
       "<table border=\"1\" class=\"dataframe\">\n",
       "  <thead>\n",
       "    <tr style=\"text-align: right;\">\n",
       "      <th></th>\n",
       "      <th>0</th>\n",
       "      <th>1</th>\n",
       "      <th>2</th>\n",
       "    </tr>\n",
       "  </thead>\n",
       "  <tbody>\n",
       "    <tr>\n",
       "      <td>0</td>\n",
       "      <td>&gt;$20 trillion $10–$20 trillion $5–$10 trillion...</td>\n",
       "      <td>$750 billion–$1 trillion $500–$750 billion $25...</td>\n",
       "      <td>$50–$100 billion $25–$50 billion $5–$25 billio...</td>\n",
       "    </tr>\n",
       "  </tbody>\n",
       "</table>\n",
       "</div>"
      ],
      "text/plain": [
       "                                                   0  \\\n",
       "0  >$20 trillion $10–$20 trillion $5–$10 trillion...   \n",
       "\n",
       "                                                   1  \\\n",
       "0  $750 billion–$1 trillion $500–$750 billion $25...   \n",
       "\n",
       "                                                   2  \n",
       "0  $50–$100 billion $25–$50 billion $5–$25 billio...  "
      ]
     },
     "execution_count": 1482,
     "metadata": {},
     "output_type": "execute_result"
    }
   ],
   "source": [
    "dfs[1].head()"
   ]
  },
  {
   "cell_type": "code",
   "execution_count": 1483,
   "metadata": {},
   "outputs": [
    {
     "data": {
      "text/html": [
       "<div>\n",
       "<style scoped>\n",
       "    .dataframe tbody tr th:only-of-type {\n",
       "        vertical-align: middle;\n",
       "    }\n",
       "\n",
       "    .dataframe tbody tr th {\n",
       "        vertical-align: top;\n",
       "    }\n",
       "\n",
       "    .dataframe thead th {\n",
       "        text-align: right;\n",
       "    }\n",
       "</style>\n",
       "<table border=\"1\" class=\"dataframe\">\n",
       "  <thead>\n",
       "    <tr style=\"text-align: right;\">\n",
       "      <th></th>\n",
       "      <th>0</th>\n",
       "      <th>1</th>\n",
       "      <th>2</th>\n",
       "    </tr>\n",
       "  </thead>\n",
       "  <tbody>\n",
       "    <tr>\n",
       "      <td>0</td>\n",
       "      <td>Per the International Monetary Fund (2019 esti...</td>\n",
       "      <td>Per the World Bank (2018)[20]</td>\n",
       "      <td>Per the United Nations (2017)[21][22]</td>\n",
       "    </tr>\n",
       "    <tr>\n",
       "      <td>1</td>\n",
       "      <td>Rank Country/Territory GDP(US$million)  World[...</td>\n",
       "      <td>Rank Country/Territory GDP(US$million)  World ...</td>\n",
       "      <td>Rank Country/Territory GDP(US$million)  World[...</td>\n",
       "    </tr>\n",
       "    <tr>\n",
       "      <td>2</td>\n",
       "      <td>Rank</td>\n",
       "      <td>Country/Territory</td>\n",
       "      <td>GDP(US$million)</td>\n",
       "    </tr>\n",
       "    <tr>\n",
       "      <td>3</td>\n",
       "      <td>NaN</td>\n",
       "      <td>World[19]</td>\n",
       "      <td>87265226</td>\n",
       "    </tr>\n",
       "    <tr>\n",
       "      <td>4</td>\n",
       "      <td>1</td>\n",
       "      <td>United States</td>\n",
       "      <td>21439453</td>\n",
       "    </tr>\n",
       "    <tr>\n",
       "      <td>5</td>\n",
       "      <td>—</td>\n",
       "      <td>European Union[23][n 1]</td>\n",
       "      <td>18705132</td>\n",
       "    </tr>\n",
       "    <tr>\n",
       "      <td>6</td>\n",
       "      <td>2</td>\n",
       "      <td>China[n 2]</td>\n",
       "      <td>14140163</td>\n",
       "    </tr>\n",
       "    <tr>\n",
       "      <td>7</td>\n",
       "      <td>3</td>\n",
       "      <td>Japan</td>\n",
       "      <td>5154475</td>\n",
       "    </tr>\n",
       "    <tr>\n",
       "      <td>8</td>\n",
       "      <td>4</td>\n",
       "      <td>Germany</td>\n",
       "      <td>3863344</td>\n",
       "    </tr>\n",
       "    <tr>\n",
       "      <td>9</td>\n",
       "      <td>5</td>\n",
       "      <td>India</td>\n",
       "      <td>2935570</td>\n",
       "    </tr>\n",
       "  </tbody>\n",
       "</table>\n",
       "</div>"
      ],
      "text/plain": [
       "                                                   0  \\\n",
       "0  Per the International Monetary Fund (2019 esti...   \n",
       "1  Rank Country/Territory GDP(US$million)  World[...   \n",
       "2                                               Rank   \n",
       "3                                                NaN   \n",
       "4                                                  1   \n",
       "5                                                  —   \n",
       "6                                                  2   \n",
       "7                                                  3   \n",
       "8                                                  4   \n",
       "9                                                  5   \n",
       "\n",
       "                                                   1  \\\n",
       "0                      Per the World Bank (2018)[20]   \n",
       "1  Rank Country/Territory GDP(US$million)  World ...   \n",
       "2                                  Country/Territory   \n",
       "3                                          World[19]   \n",
       "4                                      United States   \n",
       "5                            European Union[23][n 1]   \n",
       "6                                         China[n 2]   \n",
       "7                                              Japan   \n",
       "8                                            Germany   \n",
       "9                                              India   \n",
       "\n",
       "                                                   2  \n",
       "0              Per the United Nations (2017)[21][22]  \n",
       "1  Rank Country/Territory GDP(US$million)  World[...  \n",
       "2                                    GDP(US$million)  \n",
       "3                                           87265226  \n",
       "4                                           21439453  \n",
       "5                                           18705132  \n",
       "6                                           14140163  \n",
       "7                                            5154475  \n",
       "8                                            3863344  \n",
       "9                                            2935570  "
      ]
     },
     "execution_count": 1483,
     "metadata": {},
     "output_type": "execute_result"
    }
   ],
   "source": [
    "# Здесь таблица, объединяющая в себе 3 другие таблицы. \n",
    "# Наш обработчик не умеет такое парсить.\n",
    "dfs[2].head(10)"
   ]
  },
  {
   "cell_type": "code",
   "execution_count": 1484,
   "metadata": {},
   "outputs": [
    {
     "data": {
      "text/html": [
       "<div>\n",
       "<style scoped>\n",
       "    .dataframe tbody tr th:only-of-type {\n",
       "        vertical-align: middle;\n",
       "    }\n",
       "\n",
       "    .dataframe tbody tr th {\n",
       "        vertical-align: top;\n",
       "    }\n",
       "\n",
       "    .dataframe thead th {\n",
       "        text-align: right;\n",
       "    }\n",
       "</style>\n",
       "<table border=\"1\" class=\"dataframe\">\n",
       "  <thead>\n",
       "    <tr style=\"text-align: right;\">\n",
       "      <th></th>\n",
       "      <th>Rank</th>\n",
       "      <th>Country/Territory</th>\n",
       "      <th>GDP(US$million)</th>\n",
       "    </tr>\n",
       "  </thead>\n",
       "  <tbody>\n",
       "    <tr>\n",
       "      <td>0</td>\n",
       "      <td>NaN</td>\n",
       "      <td>World[19]</td>\n",
       "      <td>87265226</td>\n",
       "    </tr>\n",
       "    <tr>\n",
       "      <td>1</td>\n",
       "      <td>1</td>\n",
       "      <td>United States</td>\n",
       "      <td>21439453</td>\n",
       "    </tr>\n",
       "    <tr>\n",
       "      <td>2</td>\n",
       "      <td>—</td>\n",
       "      <td>European Union[23][n 1]</td>\n",
       "      <td>18705132</td>\n",
       "    </tr>\n",
       "    <tr>\n",
       "      <td>3</td>\n",
       "      <td>2</td>\n",
       "      <td>China[n 2]</td>\n",
       "      <td>14140163</td>\n",
       "    </tr>\n",
       "    <tr>\n",
       "      <td>4</td>\n",
       "      <td>3</td>\n",
       "      <td>Japan</td>\n",
       "      <td>5154475</td>\n",
       "    </tr>\n",
       "  </tbody>\n",
       "</table>\n",
       "</div>"
      ],
      "text/plain": [
       "  Rank        Country/Territory GDP(US$million)\n",
       "0  NaN                World[19]        87265226\n",
       "1    1            United States        21439453\n",
       "2    —  European Union[23][n 1]        18705132\n",
       "3    2               China[n 2]        14140163\n",
       "4    3                    Japan         5154475"
      ]
     },
     "execution_count": 1484,
     "metadata": {},
     "output_type": "execute_result"
    }
   ],
   "source": [
    "# по оценкам МВФ\n",
    "dfs[3].head()"
   ]
  },
  {
   "cell_type": "code",
   "execution_count": 1485,
   "metadata": {},
   "outputs": [
    {
     "data": {
      "text/html": [
       "<div>\n",
       "<style scoped>\n",
       "    .dataframe tbody tr th:only-of-type {\n",
       "        vertical-align: middle;\n",
       "    }\n",
       "\n",
       "    .dataframe tbody tr th {\n",
       "        vertical-align: top;\n",
       "    }\n",
       "\n",
       "    .dataframe thead th {\n",
       "        text-align: right;\n",
       "    }\n",
       "</style>\n",
       "<table border=\"1\" class=\"dataframe\">\n",
       "  <thead>\n",
       "    <tr style=\"text-align: right;\">\n",
       "      <th></th>\n",
       "      <th>Rank</th>\n",
       "      <th>Country/Territory</th>\n",
       "      <th>GDP(US$million)</th>\n",
       "    </tr>\n",
       "  </thead>\n",
       "  <tbody>\n",
       "    <tr>\n",
       "      <td>0</td>\n",
       "      <td>NaN</td>\n",
       "      <td>World</td>\n",
       "      <td>85804391</td>\n",
       "    </tr>\n",
       "    <tr>\n",
       "      <td>1</td>\n",
       "      <td>1</td>\n",
       "      <td>United States</td>\n",
       "      <td>20494100</td>\n",
       "    </tr>\n",
       "    <tr>\n",
       "      <td>2</td>\n",
       "      <td>2</td>\n",
       "      <td>China[n 5]</td>\n",
       "      <td>13608152</td>\n",
       "    </tr>\n",
       "    <tr>\n",
       "      <td>3</td>\n",
       "      <td>3</td>\n",
       "      <td>Japan</td>\n",
       "      <td>4970916</td>\n",
       "    </tr>\n",
       "    <tr>\n",
       "      <td>4</td>\n",
       "      <td>4</td>\n",
       "      <td>Germany</td>\n",
       "      <td>3996759</td>\n",
       "    </tr>\n",
       "  </tbody>\n",
       "</table>\n",
       "</div>"
      ],
      "text/plain": [
       "  Rank Country/Territory GDP(US$million)\n",
       "0  NaN             World        85804391\n",
       "1    1     United States        20494100\n",
       "2    2        China[n 5]        13608152\n",
       "3    3             Japan         4970916\n",
       "4    4           Germany         3996759"
      ]
     },
     "execution_count": 1485,
     "metadata": {},
     "output_type": "execute_result"
    }
   ],
   "source": [
    "# по оценкам Всемирного банка\n",
    "dfs[4].head()"
   ]
  },
  {
   "cell_type": "code",
   "execution_count": 1486,
   "metadata": {},
   "outputs": [
    {
     "data": {
      "text/html": [
       "<div>\n",
       "<style scoped>\n",
       "    .dataframe tbody tr th:only-of-type {\n",
       "        vertical-align: middle;\n",
       "    }\n",
       "\n",
       "    .dataframe tbody tr th {\n",
       "        vertical-align: top;\n",
       "    }\n",
       "\n",
       "    .dataframe thead th {\n",
       "        text-align: right;\n",
       "    }\n",
       "</style>\n",
       "<table border=\"1\" class=\"dataframe\">\n",
       "  <thead>\n",
       "    <tr style=\"text-align: right;\">\n",
       "      <th></th>\n",
       "      <th>Rank</th>\n",
       "      <th>Country/Territory</th>\n",
       "      <th>GDP(US$million)</th>\n",
       "    </tr>\n",
       "  </thead>\n",
       "  <tbody>\n",
       "    <tr>\n",
       "      <td>0</td>\n",
       "      <td>NaN</td>\n",
       "      <td>World[25]</td>\n",
       "      <td>80501413</td>\n",
       "    </tr>\n",
       "    <tr>\n",
       "      <td>1</td>\n",
       "      <td>1</td>\n",
       "      <td>United States</td>\n",
       "      <td>19485394</td>\n",
       "    </tr>\n",
       "    <tr>\n",
       "      <td>2</td>\n",
       "      <td>2</td>\n",
       "      <td>China[n 5]</td>\n",
       "      <td>12234781</td>\n",
       "    </tr>\n",
       "    <tr>\n",
       "      <td>3</td>\n",
       "      <td>3</td>\n",
       "      <td>Japan</td>\n",
       "      <td>4872415</td>\n",
       "    </tr>\n",
       "    <tr>\n",
       "      <td>4</td>\n",
       "      <td>4</td>\n",
       "      <td>Germany</td>\n",
       "      <td>3693204</td>\n",
       "    </tr>\n",
       "  </tbody>\n",
       "</table>\n",
       "</div>"
      ],
      "text/plain": [
       "  Rank Country/Territory  GDP(US$million)\n",
       "0  NaN         World[25]         80501413\n",
       "1    1     United States         19485394\n",
       "2    2        China[n 5]         12234781\n",
       "3    3             Japan          4872415\n",
       "4    4           Germany          3693204"
      ]
     },
     "execution_count": 1486,
     "metadata": {},
     "output_type": "execute_result"
    }
   ],
   "source": [
    "# по оценкам ООН\n",
    "dfs[5].head()"
   ]
  },
  {
   "cell_type": "markdown",
   "metadata": {},
   "source": [
    "Работаем с оценками МВФ."
   ]
  },
  {
   "cell_type": "code",
   "execution_count": 1487,
   "metadata": {},
   "outputs": [],
   "source": [
    "gdp_nominal = prepare_wiki_table(dfs[4], ['Rank', 'GDP(US$million)'])"
   ]
  },
  {
   "cell_type": "code",
   "execution_count": 1488,
   "metadata": {
    "scrolled": true
   },
   "outputs": [
    {
     "data": {
      "text/plain": [
       "(191, 3)"
      ]
     },
     "execution_count": 1488,
     "metadata": {},
     "output_type": "execute_result"
    }
   ],
   "source": [
    "gdp_nominal.shape"
   ]
  },
  {
   "cell_type": "code",
   "execution_count": 1489,
   "metadata": {
    "scrolled": false
   },
   "outputs": [
    {
     "data": {
      "text/html": [
       "<div>\n",
       "<style scoped>\n",
       "    .dataframe tbody tr th:only-of-type {\n",
       "        vertical-align: middle;\n",
       "    }\n",
       "\n",
       "    .dataframe tbody tr th {\n",
       "        vertical-align: top;\n",
       "    }\n",
       "\n",
       "    .dataframe thead th {\n",
       "        text-align: right;\n",
       "    }\n",
       "</style>\n",
       "<table border=\"1\" class=\"dataframe\">\n",
       "  <thead>\n",
       "    <tr style=\"text-align: right;\">\n",
       "      <th></th>\n",
       "      <th>Rank</th>\n",
       "      <th>GDP(US$million)</th>\n",
       "    </tr>\n",
       "  </thead>\n",
       "  <tbody>\n",
       "    <tr>\n",
       "      <td>count</td>\n",
       "      <td>185.000000</td>\n",
       "      <td>1.910000e+02</td>\n",
       "    </tr>\n",
       "    <tr>\n",
       "      <td>mean</td>\n",
       "      <td>93.000000</td>\n",
       "      <td>8.937987e+05</td>\n",
       "    </tr>\n",
       "    <tr>\n",
       "      <td>std</td>\n",
       "      <td>53.549043</td>\n",
       "      <td>6.451909e+06</td>\n",
       "    </tr>\n",
       "    <tr>\n",
       "      <td>min</td>\n",
       "      <td>1.000000</td>\n",
       "      <td>4.300000e+01</td>\n",
       "    </tr>\n",
       "    <tr>\n",
       "      <td>25%</td>\n",
       "      <td>47.000000</td>\n",
       "      <td>9.374500e+03</td>\n",
       "    </tr>\n",
       "    <tr>\n",
       "      <td>50%</td>\n",
       "      <td>93.000000</td>\n",
       "      <td>4.028800e+04</td>\n",
       "    </tr>\n",
       "    <tr>\n",
       "      <td>75%</td>\n",
       "      <td>139.000000</td>\n",
       "      <td>2.422505e+05</td>\n",
       "    </tr>\n",
       "    <tr>\n",
       "      <td>max</td>\n",
       "      <td>185.000000</td>\n",
       "      <td>8.580439e+07</td>\n",
       "    </tr>\n",
       "  </tbody>\n",
       "</table>\n",
       "</div>"
      ],
      "text/plain": [
       "             Rank  GDP(US$million)\n",
       "count  185.000000     1.910000e+02\n",
       "mean    93.000000     8.937987e+05\n",
       "std     53.549043     6.451909e+06\n",
       "min      1.000000     4.300000e+01\n",
       "25%     47.000000     9.374500e+03\n",
       "50%     93.000000     4.028800e+04\n",
       "75%    139.000000     2.422505e+05\n",
       "max    185.000000     8.580439e+07"
      ]
     },
     "execution_count": 1489,
     "metadata": {},
     "output_type": "execute_result"
    }
   ],
   "source": [
    "gdp_nominal.describe()"
   ]
  },
  {
   "cell_type": "code",
   "execution_count": 1490,
   "metadata": {},
   "outputs": [
    {
     "data": {
      "text/plain": [
       "Index(['Rank', 'Country/Territory', 'GDP(US$million)'], dtype='object')"
      ]
     },
     "execution_count": 1490,
     "metadata": {},
     "output_type": "execute_result"
    }
   ],
   "source": [
    "gdp_nominal.columns"
   ]
  },
  {
   "cell_type": "code",
   "execution_count": 1491,
   "metadata": {},
   "outputs": [],
   "source": [
    "gdp_nominal = gdp_nominal.set_index('Country/Territory')\n",
    "gdp_nominal = gdp_nominal.rename(index=country_rename)"
   ]
  },
  {
   "cell_type": "markdown",
   "metadata": {},
   "source": [
    "### ВВП по ППС"
   ]
  },
  {
   "cell_type": "code",
   "execution_count": 1492,
   "metadata": {},
   "outputs": [],
   "source": [
    "url = \"https://en.wikipedia.org/wiki/List_of_countries_by_GDP_(PPP)\"\n",
    "dfs = get_tables_from_html(url)"
   ]
  },
  {
   "cell_type": "code",
   "execution_count": 1493,
   "metadata": {},
   "outputs": [
    {
     "data": {
      "text/plain": [
       "10"
      ]
     },
     "execution_count": 1493,
     "metadata": {},
     "output_type": "execute_result"
    }
   ],
   "source": [
    "len(dfs)"
   ]
  },
  {
   "cell_type": "code",
   "execution_count": 1494,
   "metadata": {},
   "outputs": [
    {
     "data": {
      "text/html": [
       "<div>\n",
       "<style scoped>\n",
       "    .dataframe tbody tr th:only-of-type {\n",
       "        vertical-align: middle;\n",
       "    }\n",
       "\n",
       "    .dataframe tbody tr th {\n",
       "        vertical-align: top;\n",
       "    }\n",
       "\n",
       "    .dataframe thead th {\n",
       "        text-align: right;\n",
       "    }\n",
       "</style>\n",
       "<table border=\"1\" class=\"dataframe\">\n",
       "  <thead>\n",
       "    <tr style=\"text-align: right;\">\n",
       "      <th></th>\n",
       "      <th>Rank</th>\n",
       "      <th>Country/Territory</th>\n",
       "      <th>GDP(millions of current Int$)</th>\n",
       "      <th>GDP(millions of current Int$).1</th>\n",
       "    </tr>\n",
       "  </thead>\n",
       "  <tbody>\n",
       "    <tr>\n",
       "      <td>0</td>\n",
       "      <td>NaN</td>\n",
       "      <td>World</td>\n",
       "      <td>141859625</td>\n",
       "      <td>[9]</td>\n",
       "    </tr>\n",
       "    <tr>\n",
       "      <td>1</td>\n",
       "      <td>1</td>\n",
       "      <td>China[n 2]</td>\n",
       "      <td>27308857</td>\n",
       "      <td>NaN</td>\n",
       "    </tr>\n",
       "    <tr>\n",
       "      <td>2</td>\n",
       "      <td>—</td>\n",
       "      <td>European Union[n 3]</td>\n",
       "      <td>22774165</td>\n",
       "      <td>[11]</td>\n",
       "    </tr>\n",
       "    <tr>\n",
       "      <td>3</td>\n",
       "      <td>2</td>\n",
       "      <td>United States</td>\n",
       "      <td>21439453</td>\n",
       "      <td>NaN</td>\n",
       "    </tr>\n",
       "    <tr>\n",
       "      <td>4</td>\n",
       "      <td>3</td>\n",
       "      <td>India</td>\n",
       "      <td>11325669</td>\n",
       "      <td>NaN</td>\n",
       "    </tr>\n",
       "  </tbody>\n",
       "</table>\n",
       "</div>"
      ],
      "text/plain": [
       "  Rank    Country/Territory  GDP(millions of current Int$)  \\\n",
       "0  NaN                World                      141859625   \n",
       "1    1           China[n 2]                       27308857   \n",
       "2    —  European Union[n 3]                       22774165   \n",
       "3    2        United States                       21439453   \n",
       "4    3                India                       11325669   \n",
       "\n",
       "  GDP(millions of current Int$).1  \n",
       "0                             [9]  \n",
       "1                             NaN  \n",
       "2                            [11]  \n",
       "3                             NaN  \n",
       "4                             NaN  "
      ]
     },
     "execution_count": 1494,
     "metadata": {},
     "output_type": "execute_result"
    }
   ],
   "source": [
    "dfs[3].head()"
   ]
  },
  {
   "cell_type": "code",
   "execution_count": 1495,
   "metadata": {},
   "outputs": [],
   "source": [
    "gdp_ppp = prepare_wiki_table(dfs[3], ['Rank', 'GDP(millions of current Int$)'])"
   ]
  },
  {
   "cell_type": "code",
   "execution_count": 1496,
   "metadata": {},
   "outputs": [
    {
     "data": {
      "text/html": [
       "<div>\n",
       "<style scoped>\n",
       "    .dataframe tbody tr th:only-of-type {\n",
       "        vertical-align: middle;\n",
       "    }\n",
       "\n",
       "    .dataframe tbody tr th {\n",
       "        vertical-align: top;\n",
       "    }\n",
       "\n",
       "    .dataframe thead th {\n",
       "        text-align: right;\n",
       "    }\n",
       "</style>\n",
       "<table border=\"1\" class=\"dataframe\">\n",
       "  <thead>\n",
       "    <tr style=\"text-align: right;\">\n",
       "      <th></th>\n",
       "      <th>Rank</th>\n",
       "      <th>Country/Territory</th>\n",
       "      <th>GDP(millions of current Int$)</th>\n",
       "      <th>GDP(millions of current Int$).1</th>\n",
       "    </tr>\n",
       "  </thead>\n",
       "  <tbody>\n",
       "    <tr>\n",
       "      <td>0</td>\n",
       "      <td>NaN</td>\n",
       "      <td>World</td>\n",
       "      <td>141859625.0</td>\n",
       "      <td></td>\n",
       "    </tr>\n",
       "    <tr>\n",
       "      <td>1</td>\n",
       "      <td>1.0</td>\n",
       "      <td>China</td>\n",
       "      <td>27308857.0</td>\n",
       "      <td>NaN</td>\n",
       "    </tr>\n",
       "    <tr>\n",
       "      <td>2</td>\n",
       "      <td>NaN</td>\n",
       "      <td>European Union</td>\n",
       "      <td>22774165.0</td>\n",
       "      <td></td>\n",
       "    </tr>\n",
       "    <tr>\n",
       "      <td>3</td>\n",
       "      <td>2.0</td>\n",
       "      <td>United States</td>\n",
       "      <td>21439453.0</td>\n",
       "      <td>NaN</td>\n",
       "    </tr>\n",
       "    <tr>\n",
       "      <td>4</td>\n",
       "      <td>3.0</td>\n",
       "      <td>India</td>\n",
       "      <td>11325669.0</td>\n",
       "      <td>NaN</td>\n",
       "    </tr>\n",
       "  </tbody>\n",
       "</table>\n",
       "</div>"
      ],
      "text/plain": [
       "   Rank Country/Territory  GDP(millions of current Int$)  \\\n",
       "0   NaN             World                    141859625.0   \n",
       "1   1.0             China                     27308857.0   \n",
       "2   NaN    European Union                     22774165.0   \n",
       "3   2.0     United States                     21439453.0   \n",
       "4   3.0             India                     11325669.0   \n",
       "\n",
       "  GDP(millions of current Int$).1  \n",
       "0                                  \n",
       "1                             NaN  \n",
       "2                                  \n",
       "3                             NaN  \n",
       "4                             NaN  "
      ]
     },
     "execution_count": 1496,
     "metadata": {},
     "output_type": "execute_result"
    }
   ],
   "source": [
    "gdp_ppp.head()"
   ]
  },
  {
   "cell_type": "code",
   "execution_count": 1497,
   "metadata": {
    "scrolled": true
   },
   "outputs": [
    {
     "data": {
      "text/html": [
       "<div>\n",
       "<style scoped>\n",
       "    .dataframe tbody tr th:only-of-type {\n",
       "        vertical-align: middle;\n",
       "    }\n",
       "\n",
       "    .dataframe tbody tr th {\n",
       "        vertical-align: top;\n",
       "    }\n",
       "\n",
       "    .dataframe thead th {\n",
       "        text-align: right;\n",
       "    }\n",
       "</style>\n",
       "<table border=\"1\" class=\"dataframe\">\n",
       "  <thead>\n",
       "    <tr style=\"text-align: right;\">\n",
       "      <th></th>\n",
       "      <th>Rank</th>\n",
       "      <th>GDP(millions of current Int$)</th>\n",
       "    </tr>\n",
       "  </thead>\n",
       "  <tbody>\n",
       "    <tr>\n",
       "      <td>count</td>\n",
       "      <td>187.000000</td>\n",
       "      <td>1.930000e+02</td>\n",
       "    </tr>\n",
       "    <tr>\n",
       "      <td>mean</td>\n",
       "      <td>94.000000</td>\n",
       "      <td>1.586323e+06</td>\n",
       "    </tr>\n",
       "    <tr>\n",
       "      <td>std</td>\n",
       "      <td>54.126395</td>\n",
       "      <td>1.062385e+07</td>\n",
       "    </tr>\n",
       "    <tr>\n",
       "      <td>min</td>\n",
       "      <td>1.000000</td>\n",
       "      <td>4.700000e+01</td>\n",
       "    </tr>\n",
       "    <tr>\n",
       "      <td>25%</td>\n",
       "      <td>47.500000</td>\n",
       "      <td>2.217900e+04</td>\n",
       "    </tr>\n",
       "    <tr>\n",
       "      <td>50%</td>\n",
       "      <td>94.000000</td>\n",
       "      <td>7.959100e+04</td>\n",
       "    </tr>\n",
       "    <tr>\n",
       "      <td>75%</td>\n",
       "      <td>140.500000</td>\n",
       "      <td>4.131190e+05</td>\n",
       "    </tr>\n",
       "    <tr>\n",
       "      <td>max</td>\n",
       "      <td>187.000000</td>\n",
       "      <td>1.418596e+08</td>\n",
       "    </tr>\n",
       "  </tbody>\n",
       "</table>\n",
       "</div>"
      ],
      "text/plain": [
       "             Rank  GDP(millions of current Int$)\n",
       "count  187.000000                   1.930000e+02\n",
       "mean    94.000000                   1.586323e+06\n",
       "std     54.126395                   1.062385e+07\n",
       "min      1.000000                   4.700000e+01\n",
       "25%     47.500000                   2.217900e+04\n",
       "50%     94.000000                   7.959100e+04\n",
       "75%    140.500000                   4.131190e+05\n",
       "max    187.000000                   1.418596e+08"
      ]
     },
     "execution_count": 1497,
     "metadata": {},
     "output_type": "execute_result"
    }
   ],
   "source": [
    "gdp_ppp.describe()"
   ]
  },
  {
   "cell_type": "code",
   "execution_count": 1498,
   "metadata": {},
   "outputs": [],
   "source": [
    "gdp_ppp = gdp_ppp.set_index('Country/Territory')\n",
    "gdp_ppp = gdp_ppp.rename(index=country_rename)"
   ]
  },
  {
   "cell_type": "markdown",
   "metadata": {},
   "source": [
    "### Промышленное производство"
   ]
  },
  {
   "cell_type": "code",
   "execution_count": 1499,
   "metadata": {},
   "outputs": [],
   "source": [
    "url = \"https://en.wikipedia.org/wiki/Manufacturing\"\n",
    "dfs = get_tables_from_html(url)"
   ]
  },
  {
   "cell_type": "code",
   "execution_count": 1500,
   "metadata": {},
   "outputs": [
    {
     "data": {
      "text/html": [
       "<div>\n",
       "<style scoped>\n",
       "    .dataframe tbody tr th:only-of-type {\n",
       "        vertical-align: middle;\n",
       "    }\n",
       "\n",
       "    .dataframe tbody tr th {\n",
       "        vertical-align: top;\n",
       "    }\n",
       "\n",
       "    .dataframe thead th {\n",
       "        text-align: right;\n",
       "    }\n",
       "</style>\n",
       "<table border=\"1\" class=\"dataframe\">\n",
       "  <thead>\n",
       "    <tr style=\"text-align: right;\">\n",
       "      <th></th>\n",
       "      <th>Rank</th>\n",
       "      <th>Country/Region</th>\n",
       "      <th>Millions of $US</th>\n",
       "      <th>Year</th>\n",
       "    </tr>\n",
       "  </thead>\n",
       "  <tbody>\n",
       "    <tr>\n",
       "      <td>0</td>\n",
       "      <td>NaN</td>\n",
       "      <td>World</td>\n",
       "      <td>13171000</td>\n",
       "      <td>2017</td>\n",
       "    </tr>\n",
       "    <tr>\n",
       "      <td>1</td>\n",
       "      <td>1.0</td>\n",
       "      <td>China</td>\n",
       "      <td>4002752</td>\n",
       "      <td>2018</td>\n",
       "    </tr>\n",
       "    <tr>\n",
       "      <td>2</td>\n",
       "      <td>2.0</td>\n",
       "      <td>United States</td>\n",
       "      <td>2173319</td>\n",
       "      <td>2017</td>\n",
       "    </tr>\n",
       "    <tr>\n",
       "      <td>3</td>\n",
       "      <td>3.0</td>\n",
       "      <td>Japan</td>\n",
       "      <td>1007330</td>\n",
       "      <td>2017</td>\n",
       "    </tr>\n",
       "    <tr>\n",
       "      <td>4</td>\n",
       "      <td>4.0</td>\n",
       "      <td>Germany</td>\n",
       "      <td>832431</td>\n",
       "      <td>2018</td>\n",
       "    </tr>\n",
       "  </tbody>\n",
       "</table>\n",
       "</div>"
      ],
      "text/plain": [
       "   Rank Country/Region  Millions of $US  Year\n",
       "0   NaN          World         13171000  2017\n",
       "1   1.0          China          4002752  2018\n",
       "2   2.0  United States          2173319  2017\n",
       "3   3.0          Japan          1007330  2017\n",
       "4   4.0        Germany           832431  2018"
      ]
     },
     "execution_count": 1500,
     "metadata": {},
     "output_type": "execute_result"
    }
   ],
   "source": [
    "dfs[1].head()"
   ]
  },
  {
   "cell_type": "code",
   "execution_count": 1501,
   "metadata": {},
   "outputs": [],
   "source": [
    "manufacturing = prepare_wiki_table(dfs[1], ['Rank', 'Millions of $US'])"
   ]
  },
  {
   "cell_type": "code",
   "execution_count": 1502,
   "metadata": {
    "scrolled": true
   },
   "outputs": [
    {
     "data": {
      "text/html": [
       "<div>\n",
       "<style scoped>\n",
       "    .dataframe tbody tr th:only-of-type {\n",
       "        vertical-align: middle;\n",
       "    }\n",
       "\n",
       "    .dataframe tbody tr th {\n",
       "        vertical-align: top;\n",
       "    }\n",
       "\n",
       "    .dataframe thead th {\n",
       "        text-align: right;\n",
       "    }\n",
       "</style>\n",
       "<table border=\"1\" class=\"dataframe\">\n",
       "  <thead>\n",
       "    <tr style=\"text-align: right;\">\n",
       "      <th></th>\n",
       "      <th>Rank</th>\n",
       "      <th>Country/Region</th>\n",
       "      <th>Millions of $US</th>\n",
       "      <th>Year</th>\n",
       "    </tr>\n",
       "  </thead>\n",
       "  <tbody>\n",
       "    <tr>\n",
       "      <td>0</td>\n",
       "      <td>NaN</td>\n",
       "      <td>World</td>\n",
       "      <td>13171000.0</td>\n",
       "      <td>2017</td>\n",
       "    </tr>\n",
       "    <tr>\n",
       "      <td>1</td>\n",
       "      <td>1.0</td>\n",
       "      <td>China</td>\n",
       "      <td>4002752.0</td>\n",
       "      <td>2018</td>\n",
       "    </tr>\n",
       "    <tr>\n",
       "      <td>2</td>\n",
       "      <td>2.0</td>\n",
       "      <td>United States</td>\n",
       "      <td>2173319.0</td>\n",
       "      <td>2017</td>\n",
       "    </tr>\n",
       "    <tr>\n",
       "      <td>3</td>\n",
       "      <td>3.0</td>\n",
       "      <td>Japan</td>\n",
       "      <td>1007330.0</td>\n",
       "      <td>2017</td>\n",
       "    </tr>\n",
       "    <tr>\n",
       "      <td>4</td>\n",
       "      <td>4.0</td>\n",
       "      <td>Germany</td>\n",
       "      <td>832431.0</td>\n",
       "      <td>2018</td>\n",
       "    </tr>\n",
       "  </tbody>\n",
       "</table>\n",
       "</div>"
      ],
      "text/plain": [
       "   Rank Country/Region  Millions of $US  Year\n",
       "0   NaN          World       13171000.0  2017\n",
       "1   1.0          China        4002752.0  2018\n",
       "2   2.0  United States        2173319.0  2017\n",
       "3   3.0          Japan        1007330.0  2017\n",
       "4   4.0        Germany         832431.0  2018"
      ]
     },
     "execution_count": 1502,
     "metadata": {},
     "output_type": "execute_result"
    }
   ],
   "source": [
    "manufacturing.head()"
   ]
  },
  {
   "cell_type": "code",
   "execution_count": 1503,
   "metadata": {},
   "outputs": [],
   "source": [
    "manufacturing = manufacturing.set_index('Country/Region')\n",
    "manufacturing = manufacturing.rename(index=country_rename)"
   ]
  },
  {
   "cell_type": "markdown",
   "metadata": {},
   "source": [
    "### Объединение экономических показателей в один датасет"
   ]
  },
  {
   "cell_type": "code",
   "execution_count": 1504,
   "metadata": {},
   "outputs": [
    {
     "name": "stderr",
     "output_type": "stream",
     "text": [
      "/home/anton/anaconda3/lib/python3.6/site-packages/ipykernel_launcher.py:40: FutureWarning: Sorting because non-concatenation axis is not aligned. A future version\n",
      "of pandas will change to not sort by default.\n",
      "\n",
      "To accept the future behavior, pass 'sort=False'.\n",
      "\n",
      "To retain the current behavior and silence the warning, pass 'sort=True'.\n",
      "\n"
     ]
    }
   ],
   "source": [
    "roads_ = roads_df[['Length (km)/Roads', 'Length (km)/Expressways']]\n",
    "roads_.columns = ['roads, km', 'expressways, km']\n",
    "\n",
    "rail_ = rail[\n",
    "    [\n",
    "        'Length(km)',\n",
    "        'Electrified length(km)',\n",
    "        'Area (km2) per km track'\n",
    "    ]\n",
    "]\n",
    "rail_.columns = [\n",
    "    'railways, km',\n",
    "    'electrified railways, km',\n",
    "    'area (km2) per km track'\n",
    "]\n",
    "\n",
    "population_ = population[['Population', '% of worldpopulation']]\n",
    "population_.columns = ['population, persons', 'population, %']\n",
    "\n",
    "nominal_ = gdp_nominal[['GDP(US$million)']]\n",
    "nominal_.columns = ['nominal GDP, US$million']\n",
    "\n",
    "ppp_ = gdp_ppp[['GDP(millions of current Int$)']]\n",
    "ppp_.columns = ['GDP PPP, millions of current Int$']\n",
    "\n",
    "manufacturing_ = manufacturing[['Millions of $US']]\n",
    "manufacturing_.columns = ['manufacturing, millions of $US']\n",
    "\n",
    "\n",
    "stats = pd.concat(\n",
    "    [\n",
    "        roads_,\n",
    "        rail_,\n",
    "        population_,\n",
    "        nominal_,\n",
    "        ppp_,\n",
    "        manufacturing_,\n",
    "    ],\n",
    "    axis=1,\n",
    "    join='outer'\n",
    ")\n",
    "\n"
   ]
  },
  {
   "cell_type": "code",
   "execution_count": 1505,
   "metadata": {},
   "outputs": [
    {
     "data": {
      "text/html": [
       "<div>\n",
       "<style scoped>\n",
       "    .dataframe tbody tr th:only-of-type {\n",
       "        vertical-align: middle;\n",
       "    }\n",
       "\n",
       "    .dataframe tbody tr th {\n",
       "        vertical-align: top;\n",
       "    }\n",
       "\n",
       "    .dataframe thead th {\n",
       "        text-align: right;\n",
       "    }\n",
       "</style>\n",
       "<table border=\"1\" class=\"dataframe\">\n",
       "  <thead>\n",
       "    <tr style=\"text-align: right;\">\n",
       "      <th></th>\n",
       "      <th>roads, km</th>\n",
       "      <th>expressways, km</th>\n",
       "      <th>railways, km</th>\n",
       "      <th>electrified railways, km</th>\n",
       "      <th>area (km2) per km track</th>\n",
       "      <th>population, persons</th>\n",
       "      <th>population, %</th>\n",
       "      <th>nominal GDP, US$million</th>\n",
       "      <th>GDP PPP, millions of current Int$</th>\n",
       "      <th>manufacturing, millions of $US</th>\n",
       "    </tr>\n",
       "  </thead>\n",
       "  <tbody>\n",
       "    <tr>\n",
       "      <td>Abkhazia</td>\n",
       "      <td>NaN</td>\n",
       "      <td>NaN</td>\n",
       "      <td>NaN</td>\n",
       "      <td>NaN</td>\n",
       "      <td>NaN</td>\n",
       "      <td>244832.0</td>\n",
       "      <td>0.000032</td>\n",
       "      <td>NaN</td>\n",
       "      <td>NaN</td>\n",
       "      <td>NaN</td>\n",
       "    </tr>\n",
       "    <tr>\n",
       "      <td>Afghanistan</td>\n",
       "      <td>43916.0</td>\n",
       "      <td>NaN</td>\n",
       "      <td>75.0</td>\n",
       "      <td>NaN</td>\n",
       "      <td>8696.40</td>\n",
       "      <td>32225560.0</td>\n",
       "      <td>0.004157</td>\n",
       "      <td>19363.0</td>\n",
       "      <td>76486.0</td>\n",
       "      <td>NaN</td>\n",
       "    </tr>\n",
       "    <tr>\n",
       "      <td>Albania</td>\n",
       "      <td>18000.0</td>\n",
       "      <td>177.0</td>\n",
       "      <td>334.0</td>\n",
       "      <td>NaN</td>\n",
       "      <td>86.07</td>\n",
       "      <td>2862427.0</td>\n",
       "      <td>0.000369</td>\n",
       "      <td>15059.0</td>\n",
       "      <td>40151.0</td>\n",
       "      <td>NaN</td>\n",
       "    </tr>\n",
       "    <tr>\n",
       "      <td>Algeria</td>\n",
       "      <td>113655.0</td>\n",
       "      <td>1394.0</td>\n",
       "      <td>4440.0</td>\n",
       "      <td>283.0</td>\n",
       "      <td>536.43</td>\n",
       "      <td>42200000.0</td>\n",
       "      <td>0.005444</td>\n",
       "      <td>180689.0</td>\n",
       "      <td>681396.0</td>\n",
       "      <td>NaN</td>\n",
       "    </tr>\n",
       "    <tr>\n",
       "      <td>American Samoa</td>\n",
       "      <td>241.0</td>\n",
       "      <td>NaN</td>\n",
       "      <td>NaN</td>\n",
       "      <td>NaN</td>\n",
       "      <td>NaN</td>\n",
       "      <td>56700.0</td>\n",
       "      <td>0.000007</td>\n",
       "      <td>NaN</td>\n",
       "      <td>NaN</td>\n",
       "      <td>NaN</td>\n",
       "    </tr>\n",
       "  </tbody>\n",
       "</table>\n",
       "</div>"
      ],
      "text/plain": [
       "                roads, km  expressways, km  railways, km  \\\n",
       "Abkhazia              NaN              NaN           NaN   \n",
       "Afghanistan       43916.0              NaN          75.0   \n",
       "Albania           18000.0            177.0         334.0   \n",
       "Algeria          113655.0           1394.0        4440.0   \n",
       "American Samoa      241.0              NaN           NaN   \n",
       "\n",
       "                electrified railways, km  area (km2) per km track  \\\n",
       "Abkhazia                             NaN                      NaN   \n",
       "Afghanistan                          NaN                  8696.40   \n",
       "Albania                              NaN                    86.07   \n",
       "Algeria                            283.0                   536.43   \n",
       "American Samoa                       NaN                      NaN   \n",
       "\n",
       "                population, persons  population, %  nominal GDP, US$million  \\\n",
       "Abkhazia                   244832.0       0.000032                      NaN   \n",
       "Afghanistan              32225560.0       0.004157                  19363.0   \n",
       "Albania                   2862427.0       0.000369                  15059.0   \n",
       "Algeria                  42200000.0       0.005444                 180689.0   \n",
       "American Samoa              56700.0       0.000007                      NaN   \n",
       "\n",
       "                GDP PPP, millions of current Int$  \\\n",
       "Abkhazia                                      NaN   \n",
       "Afghanistan                               76486.0   \n",
       "Albania                                   40151.0   \n",
       "Algeria                                  681396.0   \n",
       "American Samoa                                NaN   \n",
       "\n",
       "                manufacturing, millions of $US  \n",
       "Abkhazia                                   NaN  \n",
       "Afghanistan                                NaN  \n",
       "Albania                                    NaN  \n",
       "Algeria                                    NaN  \n",
       "American Samoa                             NaN  "
      ]
     },
     "execution_count": 1505,
     "metadata": {},
     "output_type": "execute_result"
    }
   ],
   "source": [
    "stats.head()\n"
   ]
  },
  {
   "cell_type": "code",
   "execution_count": 1507,
   "metadata": {},
   "outputs": [],
   "source": [
    "import os\n",
    "\n",
    "\n",
    "fn = 'datasets/wiki_countries.tsv'\n",
    "os.makedirs(os.path.split(fn)[0], exist_ok=True)\n",
    "\n",
    "stats.to_csv(fn, sep='\\t')"
   ]
  },
  {
   "cell_type": "code",
   "execution_count": 998,
   "metadata": {},
   "outputs": [
    {
     "data": {
      "text/plain": [
       "(243, 10)"
      ]
     },
     "execution_count": 998,
     "metadata": {},
     "output_type": "execute_result"
    }
   ],
   "source": [
    "stats.shape"
   ]
  },
  {
   "cell_type": "code",
   "execution_count": 1437,
   "metadata": {},
   "outputs": [],
   "source": [
    "data = stats[['roads, km', 'railways, km', 'population, persons', 'nominal GDP, US$million']]"
   ]
  },
  {
   "cell_type": "code",
   "execution_count": 1438,
   "metadata": {},
   "outputs": [],
   "source": [
    "world = data.loc[['World'], :]"
   ]
  },
  {
   "cell_type": "code",
   "execution_count": 1439,
   "metadata": {},
   "outputs": [
    {
     "data": {
      "text/html": [
       "<div>\n",
       "<style scoped>\n",
       "    .dataframe tbody tr th:only-of-type {\n",
       "        vertical-align: middle;\n",
       "    }\n",
       "\n",
       "    .dataframe tbody tr th {\n",
       "        vertical-align: top;\n",
       "    }\n",
       "\n",
       "    .dataframe thead th {\n",
       "        text-align: right;\n",
       "    }\n",
       "</style>\n",
       "<table border=\"1\" class=\"dataframe\">\n",
       "  <thead>\n",
       "    <tr style=\"text-align: right;\">\n",
       "      <th></th>\n",
       "      <th>roads, km</th>\n",
       "      <th>railways, km</th>\n",
       "      <th>population, persons</th>\n",
       "      <th>nominal GDP, US$million</th>\n",
       "    </tr>\n",
       "  </thead>\n",
       "  <tbody>\n",
       "    <tr>\n",
       "      <td>World</td>\n",
       "      <td>64285009.0</td>\n",
       "      <td>1370782.0</td>\n",
       "      <td>7.751517e+09</td>\n",
       "      <td>85804391.0</td>\n",
       "    </tr>\n",
       "  </tbody>\n",
       "</table>\n",
       "</div>"
      ],
      "text/plain": [
       "        roads, km  railways, km  population, persons  nominal GDP, US$million\n",
       "World  64285009.0     1370782.0         7.751517e+09               85804391.0"
      ]
     },
     "execution_count": 1439,
     "metadata": {},
     "output_type": "execute_result"
    }
   ],
   "source": [
    "world"
   ]
  },
  {
   "cell_type": "code",
   "execution_count": 1440,
   "metadata": {},
   "outputs": [],
   "source": [
    "data = data.drop(index='World')"
   ]
  },
  {
   "cell_type": "code",
   "execution_count": 1441,
   "metadata": {},
   "outputs": [],
   "source": [
    "data = data.sort_values('nominal GDP, US$million', ascending=False)"
   ]
  },
  {
   "cell_type": "code",
   "execution_count": 1347,
   "metadata": {},
   "outputs": [
    {
     "data": {
      "text/html": [
       "<div>\n",
       "<style scoped>\n",
       "    .dataframe tbody tr th:only-of-type {\n",
       "        vertical-align: middle;\n",
       "    }\n",
       "\n",
       "    .dataframe tbody tr th {\n",
       "        vertical-align: top;\n",
       "    }\n",
       "\n",
       "    .dataframe thead th {\n",
       "        text-align: right;\n",
       "    }\n",
       "</style>\n",
       "<table border=\"1\" class=\"dataframe\">\n",
       "  <thead>\n",
       "    <tr style=\"text-align: right;\">\n",
       "      <th></th>\n",
       "      <th>roads, km</th>\n",
       "      <th>railways, km</th>\n",
       "      <th>population, persons</th>\n",
       "      <th>nominal GDP, US$million</th>\n",
       "    </tr>\n",
       "  </thead>\n",
       "  <tbody>\n",
       "    <tr>\n",
       "      <td>United States</td>\n",
       "      <td>6853024.0</td>\n",
       "      <td>149910.0</td>\n",
       "      <td>3.303430e+08</td>\n",
       "      <td>20494100.0</td>\n",
       "    </tr>\n",
       "    <tr>\n",
       "      <td>China</td>\n",
       "      <td>4846500.0</td>\n",
       "      <td>131000.0</td>\n",
       "      <td>1.400260e+09</td>\n",
       "      <td>13608152.0</td>\n",
       "    </tr>\n",
       "    <tr>\n",
       "      <td>Japan</td>\n",
       "      <td>1215000.0</td>\n",
       "      <td>27311.0</td>\n",
       "      <td>1.261400e+08</td>\n",
       "      <td>4970916.0</td>\n",
       "    </tr>\n",
       "    <tr>\n",
       "      <td>Germany</td>\n",
       "      <td>644480.0</td>\n",
       "      <td>38594.0</td>\n",
       "      <td>8.307310e+07</td>\n",
       "      <td>3996759.0</td>\n",
       "    </tr>\n",
       "    <tr>\n",
       "      <td>United Kingdom</td>\n",
       "      <td>397039.0</td>\n",
       "      <td>16320.0</td>\n",
       "      <td>6.643560e+07</td>\n",
       "      <td>2825208.0</td>\n",
       "    </tr>\n",
       "    <tr>\n",
       "      <td>France</td>\n",
       "      <td>965446.0</td>\n",
       "      <td>29273.0</td>\n",
       "      <td>6.708100e+07</td>\n",
       "      <td>2777535.0</td>\n",
       "    </tr>\n",
       "    <tr>\n",
       "      <td>India</td>\n",
       "      <td>5903293.0</td>\n",
       "      <td>68442.0</td>\n",
       "      <td>1.355550e+09</td>\n",
       "      <td>2726323.0</td>\n",
       "    </tr>\n",
       "    <tr>\n",
       "      <td>Italy</td>\n",
       "      <td>487700.0</td>\n",
       "      <td>16788.0</td>\n",
       "      <td>6.026270e+07</td>\n",
       "      <td>2073902.0</td>\n",
       "    </tr>\n",
       "    <tr>\n",
       "      <td>Brazil</td>\n",
       "      <td>1751868.0</td>\n",
       "      <td>38743.0</td>\n",
       "      <td>2.107950e+08</td>\n",
       "      <td>1868626.0</td>\n",
       "    </tr>\n",
       "    <tr>\n",
       "      <td>Canada</td>\n",
       "      <td>1042300.0</td>\n",
       "      <td>49452.0</td>\n",
       "      <td>3.783640e+07</td>\n",
       "      <td>1712510.0</td>\n",
       "    </tr>\n",
       "  </tbody>\n",
       "</table>\n",
       "</div>"
      ],
      "text/plain": [
       "                roads, km  railways, km  population, persons  \\\n",
       "United States   6853024.0      149910.0         3.303430e+08   \n",
       "China           4846500.0      131000.0         1.400260e+09   \n",
       "Japan           1215000.0       27311.0         1.261400e+08   \n",
       "Germany          644480.0       38594.0         8.307310e+07   \n",
       "United Kingdom   397039.0       16320.0         6.643560e+07   \n",
       "France           965446.0       29273.0         6.708100e+07   \n",
       "India           5903293.0       68442.0         1.355550e+09   \n",
       "Italy            487700.0       16788.0         6.026270e+07   \n",
       "Brazil          1751868.0       38743.0         2.107950e+08   \n",
       "Canada          1042300.0       49452.0         3.783640e+07   \n",
       "\n",
       "                nominal GDP, US$million  \n",
       "United States                20494100.0  \n",
       "China                        13608152.0  \n",
       "Japan                         4970916.0  \n",
       "Germany                       3996759.0  \n",
       "United Kingdom                2825208.0  \n",
       "France                        2777535.0  \n",
       "India                         2726323.0  \n",
       "Italy                         2073902.0  \n",
       "Brazil                        1868626.0  \n",
       "Canada                        1712510.0  "
      ]
     },
     "execution_count": 1347,
     "metadata": {},
     "output_type": "execute_result"
    }
   ],
   "source": [
    "data.head(10)"
   ]
  },
  {
   "cell_type": "code",
   "execution_count": 1348,
   "metadata": {},
   "outputs": [],
   "source": [
    "data = data.drop(['China', 'India'], axis=0)"
   ]
  },
  {
   "cell_type": "code",
   "execution_count": 1349,
   "metadata": {
    "scrolled": true
   },
   "outputs": [
    {
     "data": {
      "text/plain": [
       "(240, 4)"
      ]
     },
     "execution_count": 1349,
     "metadata": {},
     "output_type": "execute_result"
    }
   ],
   "source": [
    "data.shape"
   ]
  },
  {
   "cell_type": "code",
   "execution_count": 1350,
   "metadata": {},
   "outputs": [],
   "source": [
    "data['roads, km'].fillna(0, inplace=True)\n",
    "data['railways, km'].fillna(0, inplace=True)"
   ]
  },
  {
   "cell_type": "code",
   "execution_count": 1351,
   "metadata": {},
   "outputs": [
    {
     "data": {
      "text/plain": [
       "(240, 4)"
      ]
     },
     "execution_count": 1351,
     "metadata": {},
     "output_type": "execute_result"
    }
   ],
   "source": [
    "data.shape"
   ]
  },
  {
   "cell_type": "code",
   "execution_count": 1352,
   "metadata": {},
   "outputs": [],
   "source": [
    "dt = data.dropna(0)"
   ]
  },
  {
   "cell_type": "code",
   "execution_count": 1353,
   "metadata": {},
   "outputs": [],
   "source": [
    "dt = dt.divide(world.iloc[0], axis='columns')"
   ]
  },
  {
   "cell_type": "code",
   "execution_count": 1354,
   "metadata": {},
   "outputs": [],
   "source": [
    "dt = dt.sample(frac=1)"
   ]
  },
  {
   "cell_type": "code",
   "execution_count": 1355,
   "metadata": {},
   "outputs": [],
   "source": [
    "train = dt.iloc[:-50, :]\n",
    "test = dt.iloc[-50:, :]"
   ]
  },
  {
   "cell_type": "code",
   "execution_count": 1365,
   "metadata": {},
   "outputs": [],
   "source": [
    "from sklearn import datasets\n",
    "from sklearn.metrics import mean_squared_error\n",
    "from sklearn.model_selection import cross_validate\n",
    "from sklearn.neighbors import KNeighborsRegressor"
   ]
  },
  {
   "cell_type": "code",
   "execution_count": 1453,
   "metadata": {},
   "outputs": [],
   "source": [
    "regressor = KNeighborsRegressor(4)\n",
    "regressor.fit(train.iloc[:, :-1], train.iloc[:, -1:])\n",
    "score = regressor.score(test.iloc[:, :-1], test.iloc[:, -1:])"
   ]
  },
  {
   "cell_type": "code",
   "execution_count": 1454,
   "metadata": {},
   "outputs": [
    {
     "data": {
      "text/plain": [
       "0.502224650694365"
      ]
     },
     "execution_count": 1454,
     "metadata": {},
     "output_type": "execute_result"
    }
   ],
   "source": [
    "score"
   ]
  },
  {
   "cell_type": "code",
   "execution_count": 1434,
   "metadata": {},
   "outputs": [],
   "source": [
    "dt = data.dropna(0)\n",
    "dt = dt.divide(world.iloc[0], axis='columns')\n",
    "train = dt.iloc[6::2, :]\n",
    "test = dt.iloc[7::2, :]"
   ]
  },
  {
   "cell_type": "code",
   "execution_count": 1442,
   "metadata": {},
   "outputs": [],
   "source": [
    "from sklearn.preprocessing import MinMaxScaler"
   ]
  },
  {
   "cell_type": "code",
   "execution_count": 1443,
   "metadata": {},
   "outputs": [],
   "source": [
    "scaler = MinMaxScaler()\n",
    "df_scaled = pd.DataFrame(scaler.fit_transform(data), columns=data.columns)"
   ]
  },
  {
   "cell_type": "code",
   "execution_count": 1446,
   "metadata": {},
   "outputs": [
    {
     "data": {
      "text/plain": [
       "0.4339724262194802"
      ]
     },
     "execution_count": 1446,
     "metadata": {},
     "output_type": "execute_result"
    }
   ],
   "source": [
    "dt = df_scaled.dropna(0)\n",
    "dt = dt.divide(world.iloc[0], axis='columns')\n",
    "train = dt.iloc[4::2, :]\n",
    "test = dt.iloc[5::2, :]\n",
    "\n",
    "regressor = KNeighborsRegressor(10)\n",
    "regressor.fit(train.iloc[:, :-1], train.iloc[:, -1:])\n",
    "regressor.score(test.iloc[:, :-1], test.iloc[:, -1:])"
   ]
  },
  {
   "cell_type": "code",
   "execution_count": null,
   "metadata": {},
   "outputs": [],
   "source": []
  }
 ],
 "metadata": {
  "kernelspec": {
   "display_name": "Python 3",
   "language": "python",
   "name": "python3"
  },
  "language_info": {
   "codemirror_mode": {
    "name": "ipython",
    "version": 3
   },
   "file_extension": ".py",
   "mimetype": "text/x-python",
   "name": "python",
   "nbconvert_exporter": "python",
   "pygments_lexer": "ipython3",
   "version": "3.6.9"
  }
 },
 "nbformat": 4,
 "nbformat_minor": 2
}
