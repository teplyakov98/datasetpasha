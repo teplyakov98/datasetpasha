{
 "cells": [
  {
   "cell_type": "markdown",
   "metadata": {},
   "source": [
    "# Создание модели оценки кредитоспособности заемщиков"
   ]
  },
  {
   "cell_type": "markdown",
   "metadata": {},
   "source": [
    "Сначала составим модель оценки на меньшем файле, затем опробуем ее на большем файле"
   ]
  },
  {
   "cell_type": "code",
   "execution_count": 1,
   "metadata": {},
   "outputs": [],
   "source": [
    "import pandas as pd\n",
    "import numpy as np\n",
    "from sklearn.ensemble import RandomForestClassifier\n",
    "from sklearn.tree import DecisionTreeClassifier\n",
    "from sklearn.model_selection import GridSearchCV\n",
    "from sklearn.linear_model import LinearRegression"
   ]
  },
  {
   "cell_type": "markdown",
   "metadata": {},
   "source": [
    "Сначала рассмотрим меньший файл"
   ]
  },
  {
   "cell_type": "code",
   "execution_count": 2,
   "metadata": {},
   "outputs": [],
   "source": [
    "small_banks = pd.read_csv('A:\\\\Python\\\\Datasets\\\\Banks\\\\bank.csv', sep=';')"
   ]
  },
  {
   "cell_type": "code",
   "execution_count": 3,
   "metadata": {},
   "outputs": [
    {
     "data": {
      "text/html": [
       "<div>\n",
       "<style scoped>\n",
       "    .dataframe tbody tr th:only-of-type {\n",
       "        vertical-align: middle;\n",
       "    }\n",
       "\n",
       "    .dataframe tbody tr th {\n",
       "        vertical-align: top;\n",
       "    }\n",
       "\n",
       "    .dataframe thead th {\n",
       "        text-align: right;\n",
       "    }\n",
       "</style>\n",
       "<table border=\"1\" class=\"dataframe\">\n",
       "  <thead>\n",
       "    <tr style=\"text-align: right;\">\n",
       "      <th></th>\n",
       "      <th>age</th>\n",
       "      <th>job</th>\n",
       "      <th>marital</th>\n",
       "      <th>education</th>\n",
       "      <th>default</th>\n",
       "      <th>balance</th>\n",
       "      <th>housing</th>\n",
       "      <th>loan</th>\n",
       "      <th>contact</th>\n",
       "      <th>day</th>\n",
       "      <th>month</th>\n",
       "      <th>duration</th>\n",
       "      <th>campaign</th>\n",
       "      <th>pdays</th>\n",
       "      <th>previous</th>\n",
       "      <th>poutcome</th>\n",
       "      <th>y</th>\n",
       "    </tr>\n",
       "  </thead>\n",
       "  <tbody>\n",
       "    <tr>\n",
       "      <th>0</th>\n",
       "      <td>30</td>\n",
       "      <td>unemployed</td>\n",
       "      <td>married</td>\n",
       "      <td>primary</td>\n",
       "      <td>no</td>\n",
       "      <td>1787</td>\n",
       "      <td>no</td>\n",
       "      <td>no</td>\n",
       "      <td>cellular</td>\n",
       "      <td>19</td>\n",
       "      <td>oct</td>\n",
       "      <td>79</td>\n",
       "      <td>1</td>\n",
       "      <td>-1</td>\n",
       "      <td>0</td>\n",
       "      <td>unknown</td>\n",
       "      <td>no</td>\n",
       "    </tr>\n",
       "    <tr>\n",
       "      <th>1</th>\n",
       "      <td>33</td>\n",
       "      <td>services</td>\n",
       "      <td>married</td>\n",
       "      <td>secondary</td>\n",
       "      <td>no</td>\n",
       "      <td>4789</td>\n",
       "      <td>yes</td>\n",
       "      <td>yes</td>\n",
       "      <td>cellular</td>\n",
       "      <td>11</td>\n",
       "      <td>may</td>\n",
       "      <td>220</td>\n",
       "      <td>1</td>\n",
       "      <td>339</td>\n",
       "      <td>4</td>\n",
       "      <td>failure</td>\n",
       "      <td>no</td>\n",
       "    </tr>\n",
       "    <tr>\n",
       "      <th>2</th>\n",
       "      <td>35</td>\n",
       "      <td>management</td>\n",
       "      <td>single</td>\n",
       "      <td>tertiary</td>\n",
       "      <td>no</td>\n",
       "      <td>1350</td>\n",
       "      <td>yes</td>\n",
       "      <td>no</td>\n",
       "      <td>cellular</td>\n",
       "      <td>16</td>\n",
       "      <td>apr</td>\n",
       "      <td>185</td>\n",
       "      <td>1</td>\n",
       "      <td>330</td>\n",
       "      <td>1</td>\n",
       "      <td>failure</td>\n",
       "      <td>no</td>\n",
       "    </tr>\n",
       "    <tr>\n",
       "      <th>3</th>\n",
       "      <td>30</td>\n",
       "      <td>management</td>\n",
       "      <td>married</td>\n",
       "      <td>tertiary</td>\n",
       "      <td>no</td>\n",
       "      <td>1476</td>\n",
       "      <td>yes</td>\n",
       "      <td>yes</td>\n",
       "      <td>unknown</td>\n",
       "      <td>3</td>\n",
       "      <td>jun</td>\n",
       "      <td>199</td>\n",
       "      <td>4</td>\n",
       "      <td>-1</td>\n",
       "      <td>0</td>\n",
       "      <td>unknown</td>\n",
       "      <td>no</td>\n",
       "    </tr>\n",
       "    <tr>\n",
       "      <th>4</th>\n",
       "      <td>59</td>\n",
       "      <td>blue-collar</td>\n",
       "      <td>married</td>\n",
       "      <td>secondary</td>\n",
       "      <td>no</td>\n",
       "      <td>0</td>\n",
       "      <td>yes</td>\n",
       "      <td>no</td>\n",
       "      <td>unknown</td>\n",
       "      <td>5</td>\n",
       "      <td>may</td>\n",
       "      <td>226</td>\n",
       "      <td>1</td>\n",
       "      <td>-1</td>\n",
       "      <td>0</td>\n",
       "      <td>unknown</td>\n",
       "      <td>no</td>\n",
       "    </tr>\n",
       "  </tbody>\n",
       "</table>\n",
       "</div>"
      ],
      "text/plain": [
       "   age          job  marital  education default  balance housing loan  \\\n",
       "0   30   unemployed  married    primary      no     1787      no   no   \n",
       "1   33     services  married  secondary      no     4789     yes  yes   \n",
       "2   35   management   single   tertiary      no     1350     yes   no   \n",
       "3   30   management  married   tertiary      no     1476     yes  yes   \n",
       "4   59  blue-collar  married  secondary      no        0     yes   no   \n",
       "\n",
       "    contact  day month  duration  campaign  pdays  previous poutcome   y  \n",
       "0  cellular   19   oct        79         1     -1         0  unknown  no  \n",
       "1  cellular   11   may       220         1    339         4  failure  no  \n",
       "2  cellular   16   apr       185         1    330         1  failure  no  \n",
       "3   unknown    3   jun       199         4     -1         0  unknown  no  \n",
       "4   unknown    5   may       226         1     -1         0  unknown  no  "
      ]
     },
     "execution_count": 3,
     "metadata": {},
     "output_type": "execute_result"
    }
   ],
   "source": [
    "small_banks.head()"
   ]
  },
  {
   "cell_type": "markdown",
   "metadata": {},
   "source": [
    "Рассмотрим все уникальные значения каждого атрибута"
   ]
  },
  {
   "cell_type": "code",
   "execution_count": 4,
   "metadata": {},
   "outputs": [],
   "source": [
    "age_ALL = np.asarray(sorted(small_banks.age.unique()))"
   ]
  },
  {
   "cell_type": "code",
   "execution_count": 5,
   "metadata": {},
   "outputs": [
    {
     "data": {
      "text/plain": [
       "array([19, 20, 21, 22, 23, 24, 25, 26, 27, 28, 29, 30, 31, 32, 33, 34, 35,\n",
       "       36, 37, 38, 39, 40, 41, 42, 43, 44, 45, 46, 47, 48, 49, 50, 51, 52,\n",
       "       53, 54, 55, 56, 57, 58, 59, 60, 61, 62, 63, 64, 65, 66, 67, 68, 69,\n",
       "       70, 71, 72, 73, 74, 75, 76, 77, 78, 79, 80, 81, 83, 84, 86, 87],\n",
       "      dtype=int64)"
      ]
     },
     "execution_count": 5,
     "metadata": {},
     "output_type": "execute_result"
    }
   ],
   "source": [
    "age_ALL"
   ]
  },
  {
   "cell_type": "code",
   "execution_count": 6,
   "metadata": {},
   "outputs": [],
   "source": [
    "job_ALL = np.asarray(sorted(small_banks.job.unique()))"
   ]
  },
  {
   "cell_type": "code",
   "execution_count": 7,
   "metadata": {},
   "outputs": [
    {
     "data": {
      "text/plain": [
       "array(['admin.', 'blue-collar', 'entrepreneur', 'housemaid', 'management',\n",
       "       'retired', 'self-employed', 'services', 'student', 'technician',\n",
       "       'unemployed', 'unknown'], dtype='<U13')"
      ]
     },
     "execution_count": 7,
     "metadata": {},
     "output_type": "execute_result"
    }
   ],
   "source": [
    "job_ALL"
   ]
  },
  {
   "cell_type": "code",
   "execution_count": 8,
   "metadata": {},
   "outputs": [],
   "source": [
    "marital_ALL = np.asarray(sorted(small_banks.marital.unique()))"
   ]
  },
  {
   "cell_type": "code",
   "execution_count": 9,
   "metadata": {},
   "outputs": [
    {
     "data": {
      "text/plain": [
       "array(['divorced', 'married', 'single'], dtype='<U8')"
      ]
     },
     "execution_count": 9,
     "metadata": {},
     "output_type": "execute_result"
    }
   ],
   "source": [
    "marital_ALL"
   ]
  },
  {
   "cell_type": "code",
   "execution_count": 10,
   "metadata": {},
   "outputs": [],
   "source": [
    "education_ALL = np.asarray(sorted(small_banks.education.unique()))"
   ]
  },
  {
   "cell_type": "code",
   "execution_count": 11,
   "metadata": {},
   "outputs": [
    {
     "data": {
      "text/plain": [
       "array(['primary', 'secondary', 'tertiary', 'unknown'], dtype='<U9')"
      ]
     },
     "execution_count": 11,
     "metadata": {},
     "output_type": "execute_result"
    }
   ],
   "source": [
    "education_ALL"
   ]
  },
  {
   "cell_type": "code",
   "execution_count": 12,
   "metadata": {},
   "outputs": [],
   "source": [
    "default_ALL = np.asarray(sorted(small_banks.default.unique()))"
   ]
  },
  {
   "cell_type": "code",
   "execution_count": 13,
   "metadata": {},
   "outputs": [
    {
     "data": {
      "text/plain": [
       "array(['no', 'yes'], dtype='<U3')"
      ]
     },
     "execution_count": 13,
     "metadata": {},
     "output_type": "execute_result"
    }
   ],
   "source": [
    "default_ALL"
   ]
  },
  {
   "cell_type": "code",
   "execution_count": 14,
   "metadata": {},
   "outputs": [],
   "source": [
    "balance_ALL = np.asarray(sorted(small_banks.balance.unique()))"
   ]
  },
  {
   "cell_type": "code",
   "execution_count": 15,
   "metadata": {},
   "outputs": [
    {
     "data": {
      "text/plain": [
       "array([-3313, -2082, -1746, ..., 27733, 42045, 71188], dtype=int64)"
      ]
     },
     "execution_count": 15,
     "metadata": {},
     "output_type": "execute_result"
    }
   ],
   "source": [
    "balance_ALL"
   ]
  },
  {
   "cell_type": "code",
   "execution_count": 16,
   "metadata": {},
   "outputs": [],
   "source": [
    "housing_ALL = np.asarray(sorted(small_banks.housing.unique()))"
   ]
  },
  {
   "cell_type": "code",
   "execution_count": 17,
   "metadata": {},
   "outputs": [
    {
     "data": {
      "text/plain": [
       "array(['no', 'yes'], dtype='<U3')"
      ]
     },
     "execution_count": 17,
     "metadata": {},
     "output_type": "execute_result"
    }
   ],
   "source": [
    "housing_ALL"
   ]
  },
  {
   "cell_type": "code",
   "execution_count": 18,
   "metadata": {},
   "outputs": [],
   "source": [
    "loan_ALL = np.asarray(sorted(small_banks.loan.unique()))"
   ]
  },
  {
   "cell_type": "code",
   "execution_count": 19,
   "metadata": {},
   "outputs": [
    {
     "data": {
      "text/plain": [
       "array(['no', 'yes'], dtype='<U3')"
      ]
     },
     "execution_count": 19,
     "metadata": {},
     "output_type": "execute_result"
    }
   ],
   "source": [
    "loan_ALL"
   ]
  },
  {
   "cell_type": "code",
   "execution_count": 20,
   "metadata": {},
   "outputs": [],
   "source": [
    "contact_ALL = np.asarray(sorted(small_banks.contact.unique()))"
   ]
  },
  {
   "cell_type": "code",
   "execution_count": 21,
   "metadata": {},
   "outputs": [
    {
     "data": {
      "text/plain": [
       "array(['cellular', 'telephone', 'unknown'], dtype='<U9')"
      ]
     },
     "execution_count": 21,
     "metadata": {},
     "output_type": "execute_result"
    }
   ],
   "source": [
    "contact_ALL"
   ]
  },
  {
   "cell_type": "code",
   "execution_count": 22,
   "metadata": {},
   "outputs": [],
   "source": [
    "day_ALL = np.asarray(sorted(small_banks.day.unique()))"
   ]
  },
  {
   "cell_type": "code",
   "execution_count": 23,
   "metadata": {},
   "outputs": [
    {
     "data": {
      "text/plain": [
       "array([ 1,  2,  3,  4,  5,  6,  7,  8,  9, 10, 11, 12, 13, 14, 15, 16, 17,\n",
       "       18, 19, 20, 21, 22, 23, 24, 25, 26, 27, 28, 29, 30, 31],\n",
       "      dtype=int64)"
      ]
     },
     "execution_count": 23,
     "metadata": {},
     "output_type": "execute_result"
    }
   ],
   "source": [
    "day_ALL"
   ]
  },
  {
   "cell_type": "code",
   "execution_count": 24,
   "metadata": {},
   "outputs": [],
   "source": [
    "month_ALL = np.asarray(sorted(small_banks.month.unique()))"
   ]
  },
  {
   "cell_type": "code",
   "execution_count": 25,
   "metadata": {},
   "outputs": [
    {
     "data": {
      "text/plain": [
       "array(['apr', 'aug', 'dec', 'feb', 'jan', 'jul', 'jun', 'mar', 'may',\n",
       "       'nov', 'oct', 'sep'], dtype='<U3')"
      ]
     },
     "execution_count": 25,
     "metadata": {},
     "output_type": "execute_result"
    }
   ],
   "source": [
    "month_ALL"
   ]
  },
  {
   "cell_type": "code",
   "execution_count": 26,
   "metadata": {},
   "outputs": [],
   "source": [
    "duration_ALL = np.asarray(sorted(small_banks.duration.unique()))"
   ]
  },
  {
   "cell_type": "code",
   "execution_count": 27,
   "metadata": {},
   "outputs": [
    {
     "data": {
      "text/plain": [
       "array([   4,    5,    6,    7,    8,    9,   10,   11,   12,   13,   14,\n",
       "         15,   16,   17,   18,   19,   20,   21,   22,   23,   24,   25,\n",
       "         26,   27,   28,   29,   30,   31,   32,   33,   34,   35,   36,\n",
       "         37,   38,   39,   40,   41,   42,   43,   44,   45,   46,   47,\n",
       "         48,   49,   50,   51,   52,   53,   54,   55,   56,   57,   58,\n",
       "         59,   60,   61,   62,   63,   64,   65,   66,   67,   68,   69,\n",
       "         70,   71,   72,   73,   74,   75,   76,   77,   78,   79,   80,\n",
       "         81,   82,   83,   84,   85,   86,   87,   88,   89,   90,   91,\n",
       "         92,   93,   94,   95,   96,   97,   98,   99,  100,  101,  102,\n",
       "        103,  104,  105,  106,  107,  108,  109,  110,  111,  112,  113,\n",
       "        114,  115,  116,  117,  118,  119,  120,  121,  122,  123,  124,\n",
       "        125,  126,  127,  128,  129,  130,  131,  132,  133,  134,  135,\n",
       "        136,  137,  138,  139,  140,  141,  142,  143,  144,  145,  146,\n",
       "        147,  148,  149,  150,  151,  152,  153,  154,  155,  156,  157,\n",
       "        158,  159,  160,  161,  162,  163,  164,  165,  166,  167,  168,\n",
       "        169,  170,  171,  172,  173,  174,  175,  176,  177,  178,  179,\n",
       "        180,  181,  182,  183,  184,  185,  186,  187,  188,  189,  190,\n",
       "        191,  192,  193,  194,  195,  196,  197,  198,  199,  200,  201,\n",
       "        202,  203,  204,  205,  206,  207,  208,  209,  210,  211,  212,\n",
       "        213,  214,  215,  216,  217,  218,  219,  220,  221,  222,  223,\n",
       "        224,  225,  226,  227,  228,  229,  230,  231,  232,  233,  234,\n",
       "        235,  236,  237,  238,  239,  240,  241,  242,  243,  244,  245,\n",
       "        246,  247,  248,  249,  250,  251,  252,  253,  254,  255,  256,\n",
       "        257,  258,  259,  260,  261,  262,  263,  264,  265,  266,  267,\n",
       "        268,  269,  270,  271,  272,  273,  274,  275,  276,  277,  278,\n",
       "        279,  280,  281,  282,  283,  284,  285,  286,  287,  288,  289,\n",
       "        290,  291,  292,  293,  294,  295,  296,  297,  298,  299,  300,\n",
       "        301,  302,  303,  304,  305,  306,  307,  308,  309,  310,  311,\n",
       "        312,  313,  314,  315,  316,  317,  318,  319,  320,  321,  322,\n",
       "        323,  324,  325,  326,  327,  328,  329,  330,  331,  332,  333,\n",
       "        334,  335,  336,  337,  338,  339,  340,  341,  342,  343,  344,\n",
       "        345,  346,  347,  348,  349,  350,  351,  352,  353,  354,  355,\n",
       "        356,  357,  358,  359,  360,  361,  362,  363,  364,  365,  366,\n",
       "        367,  369,  370,  371,  372,  373,  374,  375,  376,  377,  378,\n",
       "        379,  380,  381,  382,  383,  384,  385,  386,  387,  388,  389,\n",
       "        390,  391,  392,  393,  394,  395,  396,  397,  398,  399,  400,\n",
       "        401,  402,  403,  404,  405,  406,  407,  408,  409,  410,  411,\n",
       "        412,  413,  414,  415,  417,  418,  419,  420,  421,  422,  423,\n",
       "        424,  425,  426,  427,  428,  429,  430,  431,  432,  433,  434,\n",
       "        435,  436,  437,  439,  441,  442,  443,  445,  446,  447,  449,\n",
       "        450,  451,  452,  454,  455,  456,  457,  458,  460,  461,  463,\n",
       "        464,  465,  466,  467,  468,  469,  470,  471,  472,  473,  474,\n",
       "        475,  476,  477,  479,  480,  481,  482,  483,  484,  485,  486,\n",
       "        487,  488,  489,  490,  491,  492,  493,  494,  495,  497,  500,\n",
       "        501,  502,  503,  504,  505,  506,  508,  509,  510,  513,  514,\n",
       "        515,  516,  517,  518,  519,  520,  521,  523,  524,  525,  526,\n",
       "        527,  528,  529,  530,  531,  532,  533,  535,  536,  537,  538,\n",
       "        539,  540,  541,  542,  543,  544,  546,  547,  548,  549,  550,\n",
       "        551,  553,  554,  555,  557,  558,  559,  560,  561,  562,  563,\n",
       "        564,  565,  566,  567,  568,  569,  570,  574,  576,  577,  578,\n",
       "        579,  580,  582,  585,  586,  587,  588,  590,  592,  593,  594,\n",
       "        595,  597,  598,  599,  600,  601,  602,  603,  605,  606,  607,\n",
       "        609,  610,  611,  612,  614,  615,  617,  618,  619,  620,  622,\n",
       "        623,  624,  626,  627,  630,  631,  632,  633,  634,  635,  636,\n",
       "        637,  638,  639,  640,  641,  643,  644,  645,  646,  648,  650,\n",
       "        651,  652,  653,  654,  655,  656,  657,  659,  660,  661,  663,\n",
       "        664,  665,  667,  668,  669,  670,  671,  672,  673,  674,  676,\n",
       "        679,  680,  681,  682,  684,  686,  688,  690,  691,  693,  696,\n",
       "        697,  698,  699,  700,  701,  702,  707,  709,  712,  715,  716,\n",
       "        717,  718,  719,  720,  721,  722,  723,  724,  725,  727,  728,\n",
       "        730,  731,  732,  733,  735,  736,  738,  742,  743,  744,  746,\n",
       "        747,  748,  749,  750,  753,  754,  755,  756,  757,  758,  759,\n",
       "        761,  762,  763,  764,  765,  766,  767,  768,  770,  772,  773,\n",
       "        775,  777,  779,  780,  781,  783,  785,  788,  789,  792,  793,\n",
       "        796,  798,  799,  800,  803,  805,  806,  808,  809,  812,  814,\n",
       "        815,  816,  819,  820,  821,  825,  827,  830,  834,  836,  847,\n",
       "        854,  857,  860,  863,  865,  866,  868,  869,  873,  875,  876,\n",
       "        877,  882,  883,  884,  891,  897,  904,  907,  908,  910,  915,\n",
       "        916,  921,  923,  924,  929,  931,  935,  936,  937,  945,  951,\n",
       "        952,  955,  956,  957,  958,  959,  965,  968,  971,  973,  976,\n",
       "        977,  978,  984,  986,  988,  990,  993,  994,  998, 1006, 1007,\n",
       "       1009, 1010, 1011, 1015, 1017, 1018, 1021, 1022, 1028, 1029, 1030,\n",
       "       1031, 1032, 1034, 1044, 1056, 1060, 1063, 1065, 1073, 1081, 1083,\n",
       "       1088, 1097, 1101, 1117, 1124, 1126, 1130, 1139, 1143, 1149, 1151,\n",
       "       1156, 1164, 1165, 1168, 1173, 1174, 1178, 1181, 1183, 1199, 1210,\n",
       "       1212, 1223, 1225, 1231, 1234, 1236, 1258, 1259, 1263, 1275, 1282,\n",
       "       1309, 1337, 1366, 1370, 1386, 1407, 1434, 1441, 1448, 1451, 1467,\n",
       "       1472, 1473, 1476, 1484, 1504, 1516, 1521, 1529, 1531, 1532, 1558,\n",
       "       1579, 1608, 1663, 1689, 1713, 1721, 1735, 1740, 1816, 1877, 1971,\n",
       "       1994, 2029, 2087, 2456, 2769, 3025], dtype=int64)"
      ]
     },
     "execution_count": 27,
     "metadata": {},
     "output_type": "execute_result"
    }
   ],
   "source": [
    "duration_ALL"
   ]
  },
  {
   "cell_type": "code",
   "execution_count": 28,
   "metadata": {},
   "outputs": [],
   "source": [
    "campaign_ALL = np.asarray(sorted(small_banks.campaign.unique()))"
   ]
  },
  {
   "cell_type": "code",
   "execution_count": 29,
   "metadata": {},
   "outputs": [
    {
     "data": {
      "text/plain": [
       "array([ 1,  2,  3,  4,  5,  6,  7,  8,  9, 10, 11, 12, 13, 14, 15, 16, 17,\n",
       "       18, 19, 20, 21, 22, 23, 24, 25, 28, 29, 30, 31, 32, 44, 50],\n",
       "      dtype=int64)"
      ]
     },
     "execution_count": 29,
     "metadata": {},
     "output_type": "execute_result"
    }
   ],
   "source": [
    "campaign_ALL"
   ]
  },
  {
   "cell_type": "code",
   "execution_count": 30,
   "metadata": {},
   "outputs": [],
   "source": [
    "pdays_ALL = np.asarray(sorted(small_banks.pdays.unique()))"
   ]
  },
  {
   "cell_type": "code",
   "execution_count": 31,
   "metadata": {},
   "outputs": [
    {
     "data": {
      "text/plain": [
       "array([ -1,   1,   2,   3,   5,   7,  28,  38,  56,  57,  58,  59,  60,\n",
       "        61,  62,  63,  64,  69,  73,  74,  75,  76,  77,  78,  79,  80,\n",
       "        81,  82,  83,  84,  85,  86,  87,  88,  89,  90,  91,  92,  93,\n",
       "        94,  95,  96,  97,  98,  99, 100, 101, 102, 103, 104, 105, 106,\n",
       "       107, 109, 110, 111, 112, 113, 114, 115, 116, 117, 118, 119, 120,\n",
       "       122, 123, 124, 126, 127, 130, 131, 133, 135, 136, 137, 138, 139,\n",
       "       140, 141, 143, 144, 145, 146, 147, 148, 149, 150, 151, 152, 153,\n",
       "       154, 158, 159, 160, 161, 162, 164, 165, 166, 167, 168, 169, 170,\n",
       "       171, 172, 173, 174, 175, 176, 177, 178, 179, 180, 181, 182, 183,\n",
       "       184, 185, 186, 187, 188, 189, 190, 191, 192, 193, 195, 196, 197,\n",
       "       198, 199, 201, 204, 205, 206, 207, 208, 209, 210, 211, 212, 219,\n",
       "       221, 222, 223, 224, 225, 227, 231, 232, 234, 235, 238, 239, 241,\n",
       "       242, 244, 246, 247, 248, 249, 250, 253, 254, 255, 256, 258, 259,\n",
       "       260, 261, 262, 264, 265, 266, 267, 268, 270, 271, 272, 273, 274,\n",
       "       275, 278, 280, 281, 282, 283, 284, 286, 287, 288, 291, 292, 293,\n",
       "       294, 295, 297, 298, 299, 300, 303, 305, 308, 309, 311, 312, 313,\n",
       "       315, 316, 317, 319, 321, 322, 323, 325, 326, 327, 329, 330, 331,\n",
       "       332, 333, 334, 335, 336, 337, 338, 339, 340, 341, 342, 343, 344,\n",
       "       345, 346, 347, 348, 349, 350, 351, 352, 353, 355, 356, 357, 358,\n",
       "       359, 360, 361, 362, 363, 364, 365, 366, 367, 368, 369, 370, 371,\n",
       "       373, 374, 375, 378, 382, 385, 386, 388, 397, 404, 414, 415, 426,\n",
       "       435, 436, 450, 460, 461, 462, 467, 474, 479, 484, 500, 541, 674,\n",
       "       683, 687, 761, 804, 808, 871], dtype=int64)"
      ]
     },
     "execution_count": 31,
     "metadata": {},
     "output_type": "execute_result"
    }
   ],
   "source": [
    "pdays_ALL"
   ]
  },
  {
   "cell_type": "code",
   "execution_count": 32,
   "metadata": {},
   "outputs": [],
   "source": [
    "previous_ALL = np.asarray(sorted(small_banks.previous.unique()))"
   ]
  },
  {
   "cell_type": "code",
   "execution_count": 33,
   "metadata": {},
   "outputs": [
    {
     "data": {
      "text/plain": [
       "array([ 0,  1,  2,  3,  4,  5,  6,  7,  8,  9, 10, 11, 12, 13, 14, 15, 17,\n",
       "       18, 19, 20, 22, 23, 24, 25], dtype=int64)"
      ]
     },
     "execution_count": 33,
     "metadata": {},
     "output_type": "execute_result"
    }
   ],
   "source": [
    "previous_ALL"
   ]
  },
  {
   "cell_type": "code",
   "execution_count": 34,
   "metadata": {},
   "outputs": [],
   "source": [
    "poutcome_ALL = np.asarray(sorted(small_banks.poutcome.unique()))"
   ]
  },
  {
   "cell_type": "code",
   "execution_count": 35,
   "metadata": {},
   "outputs": [
    {
     "data": {
      "text/plain": [
       "array(['failure', 'other', 'success', 'unknown'], dtype='<U7')"
      ]
     },
     "execution_count": 35,
     "metadata": {},
     "output_type": "execute_result"
    }
   ],
   "source": [
    "poutcome_ALL"
   ]
  },
  {
   "cell_type": "code",
   "execution_count": 36,
   "metadata": {},
   "outputs": [],
   "source": [
    "y_ALL = np.asarray(sorted(small_banks.y.unique()))"
   ]
  },
  {
   "cell_type": "code",
   "execution_count": 37,
   "metadata": {},
   "outputs": [
    {
     "data": {
      "text/plain": [
       "array(['no', 'yes'], dtype='<U3')"
      ]
     },
     "execution_count": 37,
     "metadata": {},
     "output_type": "execute_result"
    }
   ],
   "source": [
    "y_ALL"
   ]
  },
  {
   "cell_type": "markdown",
   "metadata": {},
   "source": [
    "Для всех строковых атрибутов определим количественную оценку, и определим значение корреляции всех с результирующим атрибутом"
   ]
  },
  {
   "cell_type": "code",
   "execution_count": 38,
   "metadata": {},
   "outputs": [],
   "source": [
    "dict = {'name':[], \n",
    "        'result': []} \n",
    " \n",
    "df_corr = pd.DataFrame(dict)"
   ]
  },
  {
   "cell_type": "code",
   "execution_count": 39,
   "metadata": {},
   "outputs": [
    {
     "data": {
      "text/plain": [
       "0    0\n",
       "1    0\n",
       "2    0\n",
       "3    0\n",
       "4    0\n",
       "Name: y, dtype: int64"
      ]
     },
     "execution_count": 39,
     "metadata": {},
     "output_type": "execute_result"
    }
   ],
   "source": [
    "y_0 = small_banks.y\n",
    "y_0 = y_0.replace({'no': 0, \n",
    "                   'yes': 1})\n",
    "y_0.head()"
   ]
  },
  {
   "cell_type": "code",
   "execution_count": 76,
   "metadata": {},
   "outputs": [
    {
     "data": {
      "text/plain": [
       "4521"
      ]
     },
     "execution_count": 76,
     "metadata": {},
     "output_type": "execute_result"
    }
   ],
   "source": [
    "small_banks.y.count()"
   ]
  },
  {
   "cell_type": "code",
   "execution_count": 79,
   "metadata": {},
   "outputs": [
    {
     "data": {
      "text/plain": [
       "4000"
      ]
     },
     "execution_count": 79,
     "metadata": {},
     "output_type": "execute_result"
    }
   ],
   "source": [
    "small_banks.query(\"y == 'no'\").y.count()"
   ]
  },
  {
   "cell_type": "code",
   "execution_count": 80,
   "metadata": {},
   "outputs": [
    {
     "data": {
      "text/plain": [
       "521"
      ]
     },
     "execution_count": 80,
     "metadata": {},
     "output_type": "execute_result"
    }
   ],
   "source": [
    "small_banks.query(\"y == 'yes'\").y.count()"
   ]
  },
  {
   "cell_type": "code",
   "execution_count": 40,
   "metadata": {},
   "outputs": [],
   "source": [
    "age_0 = small_banks.age\n",
    "age_0 = np.asarray(age_0)\n",
    "age_0 = age_0.reshape(-1, 1)\n",
    "model_1 = LinearRegression().fit(age_0, y_0)\n",
    "model_1_score = model_1.score(age_0, y_0)\n",
    "model_1_score\n",
    "df_corr = df_corr.append({'name':'age', \n",
    "                          'result': model_1_score}, ignore_index=True)"
   ]
  },
  {
   "cell_type": "code",
   "execution_count": 41,
   "metadata": {},
   "outputs": [],
   "source": [
    "job_0 = small_banks.job\n",
    "job_0 = job_0.replace({'unknown': 1, \n",
    "                       'unemployed': 4,\n",
    "                       'student': 2,\n",
    "                       'housemaid': 4,\n",
    "                       'retired': 0,\n",
    "                       'self-employed': 4,\n",
    "                       'entrepreneur': 5,\n",
    "                       'admin.': 4,\n",
    "                       'blue-collar': 6,\n",
    "                       'management': 3,\n",
    "                       'services': 5,\n",
    "                       'technician': 4})\n",
    "job_0 = np.asarray(job_0)\n",
    "job_0 = job_0.reshape(-1, 1)\n",
    "model_2 = LinearRegression().fit(job_0, y_0)\n",
    "model_2_score = model_2.score(job_0, y_0)\n",
    "model_2_score\n",
    "df_corr = df_corr.append({'name':'job', \n",
    "                          'result': model_2_score}, ignore_index=True)"
   ]
  },
  {
   "cell_type": "code",
   "execution_count": 42,
   "metadata": {},
   "outputs": [],
   "source": [
    "marital_0 = small_banks.marital\n",
    "marital_0 = marital_0.replace({'divorced': 0, \n",
    "                               'married': 1,\n",
    "                               'single': 0})\n",
    "marital_0 = np.asarray(marital_0)\n",
    "marital_0 = marital_0.reshape(-1, 1)\n",
    "model_3 = LinearRegression().fit(marital_0, y_0)\n",
    "model_3_score = model_3.score(marital_0, y_0)\n",
    "model_3_score\n",
    "df_corr = df_corr.append({'name':'marital', \n",
    "                          'result': model_3_score}, ignore_index=True)"
   ]
  },
  {
   "cell_type": "code",
   "execution_count": 43,
   "metadata": {},
   "outputs": [],
   "source": [
    "education_0 = small_banks.education\n",
    "education_0 = education_0.replace({'primary': 1, \n",
    "                                   'secondary': 1,\n",
    "                                   'tertiary': 3,\n",
    "                                   'unknown': 0}) \n",
    "education_0 = np.asarray(education_0)\n",
    "education_0 = education_0.reshape(-1, 1)\n",
    "model_4 = LinearRegression().fit(education_0, y_0)\n",
    "model_4_score = model_4.score(education_0, y_0)\n",
    "model_4_score\n",
    "df_corr = df_corr.append({'name':'education', \n",
    "                          'result': model_4_score}, ignore_index=True)"
   ]
  },
  {
   "cell_type": "code",
   "execution_count": 44,
   "metadata": {},
   "outputs": [],
   "source": [
    "default_0 = small_banks.default\n",
    "default_0 = default_0.replace({'no': 0, \n",
    "                               'yes': 1})\n",
    "default_0 = np.asarray(default_0)\n",
    "default_0 = default_0.reshape(-1, 1)\n",
    "model_5 = LinearRegression().fit(default_0, y_0)\n",
    "model_5_score = model_5.score(default_0, y_0)\n",
    "model_5_score\n",
    "df_corr = df_corr.append({'name':'default', \n",
    "                          'result': model_5_score}, ignore_index=True)"
   ]
  },
  {
   "cell_type": "code",
   "execution_count": 45,
   "metadata": {},
   "outputs": [],
   "source": [
    "balance_0 = small_banks.balance\n",
    "balance_0 = np.asarray(balance_0)\n",
    "balance_0 = balance_0.reshape(-1, 1)\n",
    "model_6 = LinearRegression().fit(balance_0, y_0)\n",
    "model_6_score = model_6.score(balance_0, y_0)\n",
    "model_6_score\n",
    "df_corr = df_corr.append({'name':'balance', \n",
    "                          'result': model_6_score}, ignore_index=True)"
   ]
  },
  {
   "cell_type": "code",
   "execution_count": 46,
   "metadata": {},
   "outputs": [],
   "source": [
    "housing_0 = small_banks.housing\n",
    "housing_0 = housing_0.replace({'no': 0, \n",
    "                               'yes': 1})\n",
    "housing_0 = np.asarray(housing_0)\n",
    "housing_0 = housing_0.reshape(-1, 1)\n",
    "model_7 = LinearRegression().fit(housing_0, y_0)\n",
    "model_7_score = model_7.score(housing_0, y_0)\n",
    "model_7_score\n",
    "df_corr = df_corr.append({'name':'housing', \n",
    "                          'result': model_7_score}, ignore_index=True)"
   ]
  },
  {
   "cell_type": "code",
   "execution_count": 47,
   "metadata": {},
   "outputs": [],
   "source": [
    "loan_0 = small_banks.loan\n",
    "loan_0 = loan_0.replace({'no': 0, \n",
    "                         'yes': 1})\n",
    "loan_0 = np.asarray(loan_0)\n",
    "loan_0 = loan_0.reshape(-1, 1)\n",
    "model_8 = LinearRegression().fit(loan_0, y_0)\n",
    "model_8_score = model_8.score(loan_0, y_0)\n",
    "model_8_score\n",
    "df_corr = df_corr.append({'name':'loan', \n",
    "                          'result': model_8_score}, ignore_index=True)"
   ]
  },
  {
   "cell_type": "code",
   "execution_count": 48,
   "metadata": {},
   "outputs": [],
   "source": [
    "contact_0 = small_banks.contact\n",
    "contact_0 = contact_0.replace({'cellular': 1, \n",
    "                               'telephone': 1,\n",
    "                               'unknown': 0})\n",
    "contact_0 = np.asarray(contact_0)\n",
    "contact_0 = contact_0.reshape(-1, 1)\n",
    "model_9 = LinearRegression().fit(contact_0, y_0)\n",
    "model_9_score = model_9.score(contact_0, y_0)\n",
    "model_9_score\n",
    "df_corr = df_corr.append({'name':'contact', \n",
    "                          'result': model_9_score}, ignore_index=True)"
   ]
  },
  {
   "cell_type": "code",
   "execution_count": 49,
   "metadata": {},
   "outputs": [],
   "source": [
    "day_0 = small_banks.day\n",
    "day_0 = np.asarray(day_0)\n",
    "day_0 = day_0.reshape(-1, 1)\n",
    "model_10 = LinearRegression().fit(day_0, y_0)\n",
    "model_10_score = model_10.score(day_0, y_0)\n",
    "model_10_score\n",
    "df_corr = df_corr.append({'name':'day', \n",
    "                          'result': model_10_score}, ignore_index=True)"
   ]
  },
  {
   "cell_type": "code",
   "execution_count": 50,
   "metadata": {},
   "outputs": [],
   "source": [
    "month_0 = small_banks.month\n",
    "month_0 = month_0.replace({'jan': 1, \n",
    "                           'feb': 2,\n",
    "                           'mar': 3,\n",
    "                           'apr': 4,\n",
    "                           'may': 5,\n",
    "                           'jun': 6,\n",
    "                           'jul': 7,\n",
    "                           'aug': 8,\n",
    "                           'sep': 9,\n",
    "                           'oct': 10,\n",
    "                           'nov': 11,\n",
    "                           'dec': 12}) \n",
    "month_0 = np.asarray(month_0)\n",
    "month_0 = month_0.reshape(-1, 1)\n",
    "model_11 = LinearRegression().fit(month_0, y_0)\n",
    "model_11_score = model_11.score(month_0, y_0)\n",
    "model_11_score\n",
    "df_corr = df_corr.append({'name':'month', \n",
    "                          'result': model_11_score}, ignore_index=True)"
   ]
  },
  {
   "cell_type": "code",
   "execution_count": 51,
   "metadata": {},
   "outputs": [],
   "source": [
    "duration_0 = small_banks.duration\n",
    "duration_0 = np.asarray(duration_0)\n",
    "duration_0 = duration_0.reshape(-1, 1)\n",
    "model_12 = LinearRegression().fit(duration_0, y_0)\n",
    "model_12_score = model_12.score(duration_0, y_0)\n",
    "model_12_score\n",
    "df_corr = df_corr.append({'name':'duration', \n",
    "                          'result': model_12_score}, ignore_index=True)"
   ]
  },
  {
   "cell_type": "code",
   "execution_count": 52,
   "metadata": {},
   "outputs": [],
   "source": [
    "campaign_0 = small_banks.campaign\n",
    "campaign_0 = np.asarray(campaign_0)\n",
    "campaign_0 = campaign_0.reshape(-1, 1)\n",
    "model_13 = LinearRegression().fit(campaign_0, y_0)\n",
    "model_13_score = model_13.score(campaign_0, y_0)\n",
    "model_13_score\n",
    "df_corr = df_corr.append({'name':'campaign', \n",
    "                          'result': model_13_score}, ignore_index=True)"
   ]
  },
  {
   "cell_type": "code",
   "execution_count": 53,
   "metadata": {},
   "outputs": [],
   "source": [
    "pdays_0 = small_banks.pdays\n",
    "pdays_0 = np.asarray(pdays_0)\n",
    "pdays_0 = pdays_0.reshape(-1, 1)\n",
    "model_14 = LinearRegression().fit(pdays_0, y_0)\n",
    "model_14_score = model_14.score(pdays_0, y_0)\n",
    "model_14_score\n",
    "df_corr = df_corr.append({'name':'pdays', \n",
    "                          'result': model_14_score}, ignore_index=True)"
   ]
  },
  {
   "cell_type": "code",
   "execution_count": 54,
   "metadata": {},
   "outputs": [],
   "source": [
    "previous_0 = small_banks.previous\n",
    "previous_0 = np.asarray(previous_0)\n",
    "previous_0 = previous_0.reshape(-1, 1)\n",
    "model_15 = LinearRegression().fit(previous_0, y_0)\n",
    "model_15_score = model_15.score(previous_0, y_0)\n",
    "model_15_score\n",
    "df_corr = df_corr.append({'name':'previous', \n",
    "                          'result': model_15_score}, ignore_index=True)"
   ]
  },
  {
   "cell_type": "code",
   "execution_count": 55,
   "metadata": {},
   "outputs": [],
   "source": [
    "poutcome_0 = small_banks.poutcome\n",
    "poutcome_0 = poutcome_0.replace({'failure': 0, \n",
    "                                 'other': 1,\n",
    "                                 'success': 6,\n",
    "                                 'unknown': 0})\n",
    "poutcome_0 = np.asarray(poutcome_0)\n",
    "poutcome_0 = poutcome_0.reshape(-1, 1)\n",
    "model_16 = LinearRegression().fit(poutcome_0, y_0)\n",
    "model_16_score = model_16.score(poutcome_0, y_0)\n",
    "model_16_score\n",
    "df_corr = df_corr.append({'name':'poutcome', \n",
    "                          'result': model_16_score}, ignore_index=True)"
   ]
  },
  {
   "cell_type": "code",
   "execution_count": 56,
   "metadata": {},
   "outputs": [
    {
     "data": {
      "text/html": [
       "<div>\n",
       "<style scoped>\n",
       "    .dataframe tbody tr th:only-of-type {\n",
       "        vertical-align: middle;\n",
       "    }\n",
       "\n",
       "    .dataframe tbody tr th {\n",
       "        vertical-align: top;\n",
       "    }\n",
       "\n",
       "    .dataframe thead th {\n",
       "        text-align: right;\n",
       "    }\n",
       "</style>\n",
       "<table border=\"1\" class=\"dataframe\">\n",
       "  <thead>\n",
       "    <tr style=\"text-align: right;\">\n",
       "      <th></th>\n",
       "      <th>name</th>\n",
       "      <th>result</th>\n",
       "    </tr>\n",
       "  </thead>\n",
       "  <tbody>\n",
       "    <tr>\n",
       "      <th>11</th>\n",
       "      <td>duration</td>\n",
       "      <td>0.160896</td>\n",
       "    </tr>\n",
       "    <tr>\n",
       "      <th>15</th>\n",
       "      <td>poutcome</td>\n",
       "      <td>0.084230</td>\n",
       "    </tr>\n",
       "    <tr>\n",
       "      <th>8</th>\n",
       "      <td>contact</td>\n",
       "      <td>0.019432</td>\n",
       "    </tr>\n",
       "    <tr>\n",
       "      <th>1</th>\n",
       "      <td>job</td>\n",
       "      <td>0.014043</td>\n",
       "    </tr>\n",
       "    <tr>\n",
       "      <th>14</th>\n",
       "      <td>previous</td>\n",
       "      <td>0.013622</td>\n",
       "    </tr>\n",
       "    <tr>\n",
       "      <th>6</th>\n",
       "      <td>housing</td>\n",
       "      <td>0.010959</td>\n",
       "    </tr>\n",
       "    <tr>\n",
       "      <th>13</th>\n",
       "      <td>pdays</td>\n",
       "      <td>0.010834</td>\n",
       "    </tr>\n",
       "    <tr>\n",
       "      <th>7</th>\n",
       "      <td>loan</td>\n",
       "      <td>0.004973</td>\n",
       "    </tr>\n",
       "    <tr>\n",
       "      <th>2</th>\n",
       "      <td>marital</td>\n",
       "      <td>0.004179</td>\n",
       "    </tr>\n",
       "    <tr>\n",
       "      <th>12</th>\n",
       "      <td>campaign</td>\n",
       "      <td>0.003739</td>\n",
       "    </tr>\n",
       "    <tr>\n",
       "      <th>3</th>\n",
       "      <td>education</td>\n",
       "      <td>0.003102</td>\n",
       "    </tr>\n",
       "    <tr>\n",
       "      <th>0</th>\n",
       "      <td>age</td>\n",
       "      <td>0.002033</td>\n",
       "    </tr>\n",
       "    <tr>\n",
       "      <th>10</th>\n",
       "      <td>month</td>\n",
       "      <td>0.000545</td>\n",
       "    </tr>\n",
       "    <tr>\n",
       "      <th>5</th>\n",
       "      <td>balance</td>\n",
       "      <td>0.000321</td>\n",
       "    </tr>\n",
       "    <tr>\n",
       "      <th>9</th>\n",
       "      <td>day</td>\n",
       "      <td>0.000126</td>\n",
       "    </tr>\n",
       "    <tr>\n",
       "      <th>4</th>\n",
       "      <td>default</td>\n",
       "      <td>0.000002</td>\n",
       "    </tr>\n",
       "  </tbody>\n",
       "</table>\n",
       "</div>"
      ],
      "text/plain": [
       "         name    result\n",
       "11   duration  0.160896\n",
       "15   poutcome  0.084230\n",
       "8     contact  0.019432\n",
       "1         job  0.014043\n",
       "14   previous  0.013622\n",
       "6     housing  0.010959\n",
       "13      pdays  0.010834\n",
       "7        loan  0.004973\n",
       "2     marital  0.004179\n",
       "12   campaign  0.003739\n",
       "3   education  0.003102\n",
       "0         age  0.002033\n",
       "10      month  0.000545\n",
       "5     balance  0.000321\n",
       "9         day  0.000126\n",
       "4     default  0.000002"
      ]
     },
     "execution_count": 56,
     "metadata": {},
     "output_type": "execute_result"
    }
   ],
   "source": [
    "df_corr = df_corr.sort_values(by=['result'], ascending=False)\n",
    "df_corr"
   ]
  },
  {
   "cell_type": "markdown",
   "metadata": {},
   "source": [
    "В качестве признаков последующей модели выберем только атрибуты, значение корреляции которых превысило установленный порог: 1%\n",
    "\n",
    "Таких признаков 7:\n",
    "\n",
    "1) duration\n",
    "\n",
    "2) poutcome\n",
    "\n",
    "3) contact\n",
    "\n",
    "4) job\n",
    "\n",
    "5) previous\n",
    "\n",
    "6) housing\n",
    "\n",
    "7) pdays\n",
    "\n",
    "Остальные признаки отбрасываем как малозначащие"
   ]
  },
  {
   "cell_type": "code",
   "execution_count": 57,
   "metadata": {},
   "outputs": [],
   "source": [
    "duration_f = small_banks.duration\n",
    "poutcome_f = small_banks.poutcome\n",
    "poutcome_f = poutcome_f.replace({'failure': 0, \n",
    "                                 'other': 1,\n",
    "                                 'success': 6,\n",
    "                                 'unknown': 0})\n",
    "contact_f = small_banks.contact\n",
    "contact_f = contact_f.replace({'cellular': 1, \n",
    "                               'telephone': 1,\n",
    "                               'unknown': 0})\n",
    "job_f = small_banks.job\n",
    "job_f = job_f.replace({'unknown': 1, \n",
    "                       'unemployed': 4,\n",
    "                       'student': 2,\n",
    "                       'housemaid': 4,\n",
    "                       'retired': 0,\n",
    "                       'self-employed': 4,\n",
    "                       'entrepreneur': 5,\n",
    "                       'admin.': 4,\n",
    "                       'blue-collar': 6,\n",
    "                       'management': 3,\n",
    "                       'services': 5,\n",
    "                       'technician': 4})\n",
    "previous_f = small_banks.previous\n",
    "housing_f = small_banks.housing\n",
    "housing_f = housing_f.replace({'no': 0, \n",
    "                               'yes': 1})\n",
    "pdays_f = small_banks.pdays\n",
    "y_f = small_banks.y\n",
    "y_f = y_f.replace({'no': 0, \n",
    "                   'yes': 1})"
   ]
  },
  {
   "cell_type": "code",
   "execution_count": 58,
   "metadata": {},
   "outputs": [
    {
     "data": {
      "text/html": [
       "<div>\n",
       "<style scoped>\n",
       "    .dataframe tbody tr th:only-of-type {\n",
       "        vertical-align: middle;\n",
       "    }\n",
       "\n",
       "    .dataframe tbody tr th {\n",
       "        vertical-align: top;\n",
       "    }\n",
       "\n",
       "    .dataframe thead th {\n",
       "        text-align: right;\n",
       "    }\n",
       "</style>\n",
       "<table border=\"1\" class=\"dataframe\">\n",
       "  <thead>\n",
       "    <tr style=\"text-align: right;\">\n",
       "      <th></th>\n",
       "      <th>duration</th>\n",
       "      <th>poutcome</th>\n",
       "      <th>contact</th>\n",
       "      <th>job</th>\n",
       "      <th>previous</th>\n",
       "      <th>housing</th>\n",
       "      <th>pdays</th>\n",
       "      <th>y</th>\n",
       "    </tr>\n",
       "  </thead>\n",
       "  <tbody>\n",
       "    <tr>\n",
       "      <th>0</th>\n",
       "      <td>79</td>\n",
       "      <td>0</td>\n",
       "      <td>1</td>\n",
       "      <td>4</td>\n",
       "      <td>0</td>\n",
       "      <td>0</td>\n",
       "      <td>-1</td>\n",
       "      <td>0</td>\n",
       "    </tr>\n",
       "    <tr>\n",
       "      <th>1</th>\n",
       "      <td>220</td>\n",
       "      <td>0</td>\n",
       "      <td>1</td>\n",
       "      <td>5</td>\n",
       "      <td>4</td>\n",
       "      <td>1</td>\n",
       "      <td>339</td>\n",
       "      <td>0</td>\n",
       "    </tr>\n",
       "    <tr>\n",
       "      <th>2</th>\n",
       "      <td>185</td>\n",
       "      <td>0</td>\n",
       "      <td>1</td>\n",
       "      <td>3</td>\n",
       "      <td>1</td>\n",
       "      <td>1</td>\n",
       "      <td>330</td>\n",
       "      <td>0</td>\n",
       "    </tr>\n",
       "    <tr>\n",
       "      <th>3</th>\n",
       "      <td>199</td>\n",
       "      <td>0</td>\n",
       "      <td>0</td>\n",
       "      <td>3</td>\n",
       "      <td>0</td>\n",
       "      <td>1</td>\n",
       "      <td>-1</td>\n",
       "      <td>0</td>\n",
       "    </tr>\n",
       "    <tr>\n",
       "      <th>4</th>\n",
       "      <td>226</td>\n",
       "      <td>0</td>\n",
       "      <td>0</td>\n",
       "      <td>6</td>\n",
       "      <td>0</td>\n",
       "      <td>1</td>\n",
       "      <td>-1</td>\n",
       "      <td>0</td>\n",
       "    </tr>\n",
       "  </tbody>\n",
       "</table>\n",
       "</div>"
      ],
      "text/plain": [
       "   duration  poutcome  contact  job  previous  housing  pdays  y\n",
       "0        79         0        1    4         0        0     -1  0\n",
       "1       220         0        1    5         4        1    339  0\n",
       "2       185         0        1    3         1        1    330  0\n",
       "3       199         0        0    3         0        1     -1  0\n",
       "4       226         0        0    6         0        1     -1  0"
      ]
     },
     "execution_count": 58,
     "metadata": {},
     "output_type": "execute_result"
    }
   ],
   "source": [
    "final_dict = {'duration': duration_f, \n",
    "              'poutcome': poutcome_f,\n",
    "              'contact': contact_f,\n",
    "              'job': job_f,\n",
    "              'previous': previous_f,\n",
    "              'housing': housing_f,\n",
    "              'pdays': pdays_f,\n",
    "              'y':y_f} \n",
    " \n",
    "df_final = pd.DataFrame(final_dict)\n",
    "df_final.head()"
   ]
  },
  {
   "cell_type": "markdown",
   "metadata": {},
   "source": [
    "Воспользуемся методом RandomForest и получим оценку модели"
   ]
  },
  {
   "cell_type": "code",
   "execution_count": 59,
   "metadata": {},
   "outputs": [
    {
     "data": {
      "text/html": [
       "<div>\n",
       "<style scoped>\n",
       "    .dataframe tbody tr th:only-of-type {\n",
       "        vertical-align: middle;\n",
       "    }\n",
       "\n",
       "    .dataframe tbody tr th {\n",
       "        vertical-align: top;\n",
       "    }\n",
       "\n",
       "    .dataframe thead th {\n",
       "        text-align: right;\n",
       "    }\n",
       "</style>\n",
       "<table border=\"1\" class=\"dataframe\">\n",
       "  <thead>\n",
       "    <tr style=\"text-align: right;\">\n",
       "      <th></th>\n",
       "      <th>duration</th>\n",
       "      <th>poutcome</th>\n",
       "      <th>contact</th>\n",
       "      <th>job</th>\n",
       "      <th>previous</th>\n",
       "      <th>housing</th>\n",
       "      <th>pdays</th>\n",
       "    </tr>\n",
       "  </thead>\n",
       "  <tbody>\n",
       "    <tr>\n",
       "      <th>0</th>\n",
       "      <td>79</td>\n",
       "      <td>0</td>\n",
       "      <td>1</td>\n",
       "      <td>4</td>\n",
       "      <td>0</td>\n",
       "      <td>0</td>\n",
       "      <td>-1</td>\n",
       "    </tr>\n",
       "    <tr>\n",
       "      <th>1</th>\n",
       "      <td>220</td>\n",
       "      <td>0</td>\n",
       "      <td>1</td>\n",
       "      <td>5</td>\n",
       "      <td>4</td>\n",
       "      <td>1</td>\n",
       "      <td>339</td>\n",
       "    </tr>\n",
       "    <tr>\n",
       "      <th>2</th>\n",
       "      <td>185</td>\n",
       "      <td>0</td>\n",
       "      <td>1</td>\n",
       "      <td>3</td>\n",
       "      <td>1</td>\n",
       "      <td>1</td>\n",
       "      <td>330</td>\n",
       "    </tr>\n",
       "    <tr>\n",
       "      <th>3</th>\n",
       "      <td>199</td>\n",
       "      <td>0</td>\n",
       "      <td>0</td>\n",
       "      <td>3</td>\n",
       "      <td>0</td>\n",
       "      <td>1</td>\n",
       "      <td>-1</td>\n",
       "    </tr>\n",
       "    <tr>\n",
       "      <th>4</th>\n",
       "      <td>226</td>\n",
       "      <td>0</td>\n",
       "      <td>0</td>\n",
       "      <td>6</td>\n",
       "      <td>0</td>\n",
       "      <td>1</td>\n",
       "      <td>-1</td>\n",
       "    </tr>\n",
       "  </tbody>\n",
       "</table>\n",
       "</div>"
      ],
      "text/plain": [
       "   duration  poutcome  contact  job  previous  housing  pdays\n",
       "0        79         0        1    4         0        0     -1\n",
       "1       220         0        1    5         4        1    339\n",
       "2       185         0        1    3         1        1    330\n",
       "3       199         0        0    3         0        1     -1\n",
       "4       226         0        0    6         0        1     -1"
      ]
     },
     "execution_count": 59,
     "metadata": {},
     "output_type": "execute_result"
    }
   ],
   "source": [
    "X_f = df_final.drop(['y'],axis=1)\n",
    "X_f.head()"
   ]
  },
  {
   "cell_type": "code",
   "execution_count": 60,
   "metadata": {},
   "outputs": [
    {
     "data": {
      "text/plain": [
       "0    0\n",
       "1    0\n",
       "2    0\n",
       "3    0\n",
       "4    0\n",
       "Name: y, dtype: int64"
      ]
     },
     "execution_count": 60,
     "metadata": {},
     "output_type": "execute_result"
    }
   ],
   "source": [
    "y_f = df_final.y\n",
    "y_f.head()"
   ]
  },
  {
   "cell_type": "code",
   "execution_count": 61,
   "metadata": {},
   "outputs": [],
   "source": [
    "clf_rf = RandomForestClassifier(criterion='entropy',random_state=0)"
   ]
  },
  {
   "cell_type": "code",
   "execution_count": 62,
   "metadata": {},
   "outputs": [],
   "source": [
    "parametrs = {'n_estimators':range(10,50,10),\n",
    "             'max_depth':range(1,12,2),\n",
    "             'min_samples_leaf':range(1,7),\n",
    "             'min_samples_split':range(2,9,2)}"
   ]
  },
  {
   "cell_type": "code",
   "execution_count": 63,
   "metadata": {},
   "outputs": [],
   "source": [
    "grid_search_cv_clf = GridSearchCV(clf_rf,\n",
    "                                  parametrs,\n",
    "                                  cv=3,\n",
    "                                  n_jobs=-1)"
   ]
  },
  {
   "cell_type": "code",
   "execution_count": 64,
   "metadata": {},
   "outputs": [
    {
     "data": {
      "text/plain": [
       "GridSearchCV(cv=3, error_score='raise-deprecating',\n",
       "             estimator=RandomForestClassifier(bootstrap=True, class_weight=None,\n",
       "                                              criterion='entropy',\n",
       "                                              max_depth=None,\n",
       "                                              max_features='auto',\n",
       "                                              max_leaf_nodes=None,\n",
       "                                              min_impurity_decrease=0.0,\n",
       "                                              min_impurity_split=None,\n",
       "                                              min_samples_leaf=1,\n",
       "                                              min_samples_split=2,\n",
       "                                              min_weight_fraction_leaf=0.0,\n",
       "                                              n_estimators='warn', n_jobs=None,\n",
       "                                              oob_score=False, random_state=0,\n",
       "                                              verbose=0, warm_start=False),\n",
       "             iid='warn', n_jobs=-1,\n",
       "             param_grid={'max_depth': range(1, 12, 2),\n",
       "                         'min_samples_leaf': range(1, 7),\n",
       "                         'min_samples_split': range(2, 9, 2),\n",
       "                         'n_estimators': range(10, 50, 10)},\n",
       "             pre_dispatch='2*n_jobs', refit=True, return_train_score=False,\n",
       "             scoring=None, verbose=0)"
      ]
     },
     "execution_count": 64,
     "metadata": {},
     "output_type": "execute_result"
    }
   ],
   "source": [
    "grid_search_cv_clf.fit(X_f,y_f)"
   ]
  },
  {
   "cell_type": "code",
   "execution_count": 65,
   "metadata": {},
   "outputs": [
    {
     "data": {
      "text/plain": [
       "{'max_depth': 9,\n",
       " 'min_samples_leaf': 1,\n",
       " 'min_samples_split': 8,\n",
       " 'n_estimators': 30}"
      ]
     },
     "execution_count": 65,
     "metadata": {},
     "output_type": "execute_result"
    }
   ],
   "source": [
    "grid_search_cv_clf.best_params_"
   ]
  },
  {
   "cell_type": "code",
   "execution_count": 69,
   "metadata": {
    "scrolled": true
   },
   "outputs": [
    {
     "data": {
      "text/plain": [
       "RandomForestClassifier(bootstrap=True, class_weight=None, criterion='entropy',\n",
       "                       max_depth=9, max_features='auto', max_leaf_nodes=None,\n",
       "                       min_impurity_decrease=0.0, min_impurity_split=None,\n",
       "                       min_samples_leaf=1, min_samples_split=8,\n",
       "                       min_weight_fraction_leaf=0.0, n_estimators=30,\n",
       "                       n_jobs=None, oob_score=False, random_state=0, verbose=0,\n",
       "                       warm_start=False)"
      ]
     },
     "execution_count": 69,
     "metadata": {},
     "output_type": "execute_result"
    }
   ],
   "source": [
    "best_clf = grid_search_cv_clf.best_estimator_\n",
    "best_clf"
   ]
  },
  {
   "cell_type": "code",
   "execution_count": 71,
   "metadata": {},
   "outputs": [
    {
     "data": {
      "text/plain": [
       "array([0.61285231, 0.10233155, 0.0494665 , 0.06638005, 0.04778924,\n",
       "       0.02762784, 0.09355251])"
      ]
     },
     "execution_count": 71,
     "metadata": {},
     "output_type": "execute_result"
    }
   ],
   "source": [
    "feature_importances = best_clf.feature_importances_\n",
    "feature_importances"
   ]
  },
  {
   "cell_type": "code",
   "execution_count": 73,
   "metadata": {},
   "outputs": [
    {
     "data": {
      "text/html": [
       "<div>\n",
       "<style scoped>\n",
       "    .dataframe tbody tr th:only-of-type {\n",
       "        vertical-align: middle;\n",
       "    }\n",
       "\n",
       "    .dataframe tbody tr th {\n",
       "        vertical-align: top;\n",
       "    }\n",
       "\n",
       "    .dataframe thead th {\n",
       "        text-align: right;\n",
       "    }\n",
       "</style>\n",
       "<table border=\"1\" class=\"dataframe\">\n",
       "  <thead>\n",
       "    <tr style=\"text-align: right;\">\n",
       "      <th></th>\n",
       "      <th>features</th>\n",
       "      <th>feature_importances</th>\n",
       "    </tr>\n",
       "  </thead>\n",
       "  <tbody>\n",
       "    <tr>\n",
       "      <th>0</th>\n",
       "      <td>duration</td>\n",
       "      <td>0.612852</td>\n",
       "    </tr>\n",
       "    <tr>\n",
       "      <th>1</th>\n",
       "      <td>poutcome</td>\n",
       "      <td>0.102332</td>\n",
       "    </tr>\n",
       "    <tr>\n",
       "      <th>2</th>\n",
       "      <td>contact</td>\n",
       "      <td>0.049466</td>\n",
       "    </tr>\n",
       "    <tr>\n",
       "      <th>3</th>\n",
       "      <td>job</td>\n",
       "      <td>0.066380</td>\n",
       "    </tr>\n",
       "    <tr>\n",
       "      <th>4</th>\n",
       "      <td>previous</td>\n",
       "      <td>0.047789</td>\n",
       "    </tr>\n",
       "    <tr>\n",
       "      <th>5</th>\n",
       "      <td>housing</td>\n",
       "      <td>0.027628</td>\n",
       "    </tr>\n",
       "    <tr>\n",
       "      <th>6</th>\n",
       "      <td>pdays</td>\n",
       "      <td>0.093553</td>\n",
       "    </tr>\n",
       "  </tbody>\n",
       "</table>\n",
       "</div>"
      ],
      "text/plain": [
       "   features  feature_importances\n",
       "0  duration             0.612852\n",
       "1  poutcome             0.102332\n",
       "2   contact             0.049466\n",
       "3       job             0.066380\n",
       "4  previous             0.047789\n",
       "5   housing             0.027628\n",
       "6     pdays             0.093553"
      ]
     },
     "execution_count": 73,
     "metadata": {},
     "output_type": "execute_result"
    }
   ],
   "source": [
    "feature_importances_df = pd.DataFrame({'features':list(X_f),'feature_importances':feature_importances})\n",
    "feature_importances_df.sort_values('feature_importances',ascending=False)\n",
    "feature_importances_df"
   ]
  },
  {
   "cell_type": "code",
   "execution_count": 81,
   "metadata": {},
   "outputs": [
    {
     "data": {
      "text/plain": [
       "0.9259013492590135"
      ]
     },
     "execution_count": 81,
     "metadata": {},
     "output_type": "execute_result"
    }
   ],
   "source": [
    "best_clf.score(X_f,y_f)"
   ]
  },
  {
   "cell_type": "markdown",
   "metadata": {},
   "source": [
    "Воспроизведем полученную модель на большем файле и сравним результаты"
   ]
  },
  {
   "cell_type": "code",
   "execution_count": 99,
   "metadata": {},
   "outputs": [
    {
     "data": {
      "text/html": [
       "<div>\n",
       "<style scoped>\n",
       "    .dataframe tbody tr th:only-of-type {\n",
       "        vertical-align: middle;\n",
       "    }\n",
       "\n",
       "    .dataframe tbody tr th {\n",
       "        vertical-align: top;\n",
       "    }\n",
       "\n",
       "    .dataframe thead th {\n",
       "        text-align: right;\n",
       "    }\n",
       "</style>\n",
       "<table border=\"1\" class=\"dataframe\">\n",
       "  <thead>\n",
       "    <tr style=\"text-align: right;\">\n",
       "      <th></th>\n",
       "      <th>age</th>\n",
       "      <th>job</th>\n",
       "      <th>marital</th>\n",
       "      <th>education</th>\n",
       "      <th>default</th>\n",
       "      <th>balance</th>\n",
       "      <th>housing</th>\n",
       "      <th>loan</th>\n",
       "      <th>contact</th>\n",
       "      <th>day</th>\n",
       "      <th>month</th>\n",
       "      <th>duration</th>\n",
       "      <th>campaign</th>\n",
       "      <th>pdays</th>\n",
       "      <th>previous</th>\n",
       "      <th>poutcome</th>\n",
       "      <th>y</th>\n",
       "    </tr>\n",
       "  </thead>\n",
       "  <tbody>\n",
       "    <tr>\n",
       "      <th>0</th>\n",
       "      <td>58</td>\n",
       "      <td>management</td>\n",
       "      <td>married</td>\n",
       "      <td>tertiary</td>\n",
       "      <td>no</td>\n",
       "      <td>2143</td>\n",
       "      <td>yes</td>\n",
       "      <td>no</td>\n",
       "      <td>unknown</td>\n",
       "      <td>5</td>\n",
       "      <td>may</td>\n",
       "      <td>261</td>\n",
       "      <td>1</td>\n",
       "      <td>-1</td>\n",
       "      <td>0</td>\n",
       "      <td>unknown</td>\n",
       "      <td>no</td>\n",
       "    </tr>\n",
       "    <tr>\n",
       "      <th>1</th>\n",
       "      <td>44</td>\n",
       "      <td>technician</td>\n",
       "      <td>single</td>\n",
       "      <td>secondary</td>\n",
       "      <td>no</td>\n",
       "      <td>29</td>\n",
       "      <td>yes</td>\n",
       "      <td>no</td>\n",
       "      <td>unknown</td>\n",
       "      <td>5</td>\n",
       "      <td>may</td>\n",
       "      <td>151</td>\n",
       "      <td>1</td>\n",
       "      <td>-1</td>\n",
       "      <td>0</td>\n",
       "      <td>unknown</td>\n",
       "      <td>no</td>\n",
       "    </tr>\n",
       "    <tr>\n",
       "      <th>2</th>\n",
       "      <td>33</td>\n",
       "      <td>entrepreneur</td>\n",
       "      <td>married</td>\n",
       "      <td>secondary</td>\n",
       "      <td>no</td>\n",
       "      <td>2</td>\n",
       "      <td>yes</td>\n",
       "      <td>yes</td>\n",
       "      <td>unknown</td>\n",
       "      <td>5</td>\n",
       "      <td>may</td>\n",
       "      <td>76</td>\n",
       "      <td>1</td>\n",
       "      <td>-1</td>\n",
       "      <td>0</td>\n",
       "      <td>unknown</td>\n",
       "      <td>no</td>\n",
       "    </tr>\n",
       "    <tr>\n",
       "      <th>3</th>\n",
       "      <td>47</td>\n",
       "      <td>blue-collar</td>\n",
       "      <td>married</td>\n",
       "      <td>unknown</td>\n",
       "      <td>no</td>\n",
       "      <td>1506</td>\n",
       "      <td>yes</td>\n",
       "      <td>no</td>\n",
       "      <td>unknown</td>\n",
       "      <td>5</td>\n",
       "      <td>may</td>\n",
       "      <td>92</td>\n",
       "      <td>1</td>\n",
       "      <td>-1</td>\n",
       "      <td>0</td>\n",
       "      <td>unknown</td>\n",
       "      <td>no</td>\n",
       "    </tr>\n",
       "    <tr>\n",
       "      <th>4</th>\n",
       "      <td>33</td>\n",
       "      <td>unknown</td>\n",
       "      <td>single</td>\n",
       "      <td>unknown</td>\n",
       "      <td>no</td>\n",
       "      <td>1</td>\n",
       "      <td>no</td>\n",
       "      <td>no</td>\n",
       "      <td>unknown</td>\n",
       "      <td>5</td>\n",
       "      <td>may</td>\n",
       "      <td>198</td>\n",
       "      <td>1</td>\n",
       "      <td>-1</td>\n",
       "      <td>0</td>\n",
       "      <td>unknown</td>\n",
       "      <td>no</td>\n",
       "    </tr>\n",
       "  </tbody>\n",
       "</table>\n",
       "</div>"
      ],
      "text/plain": [
       "   age           job  marital  education default  balance housing loan  \\\n",
       "0   58    management  married   tertiary      no     2143     yes   no   \n",
       "1   44    technician   single  secondary      no       29     yes   no   \n",
       "2   33  entrepreneur  married  secondary      no        2     yes  yes   \n",
       "3   47   blue-collar  married    unknown      no     1506     yes   no   \n",
       "4   33       unknown   single    unknown      no        1      no   no   \n",
       "\n",
       "   contact  day month  duration  campaign  pdays  previous poutcome   y  \n",
       "0  unknown    5   may       261         1     -1         0  unknown  no  \n",
       "1  unknown    5   may       151         1     -1         0  unknown  no  \n",
       "2  unknown    5   may        76         1     -1         0  unknown  no  \n",
       "3  unknown    5   may        92         1     -1         0  unknown  no  \n",
       "4  unknown    5   may       198         1     -1         0  unknown  no  "
      ]
     },
     "execution_count": 99,
     "metadata": {},
     "output_type": "execute_result"
    }
   ],
   "source": [
    "big_banks = pd.read_csv('A:\\\\Python\\\\Datasets\\\\Banks\\\\bank-full.csv', sep=';')\n",
    "big_banks.head()"
   ]
  },
  {
   "cell_type": "code",
   "execution_count": 100,
   "metadata": {},
   "outputs": [],
   "source": [
    "duration_t = big_banks.duration\n",
    "poutcome_t = big_banks.poutcome\n",
    "poutcome_t = poutcome_t.replace({'failure': 0, \n",
    "                                 'other': 1,\n",
    "                                 'success': 6,\n",
    "                                 'unknown': 0})\n",
    "contact_t = big_banks.contact\n",
    "contact_t = contact_t.replace({'cellular': 1, \n",
    "                               'telephone': 1,\n",
    "                               'unknown': 0})\n",
    "job_t = big_banks.job\n",
    "job_t = job_t.replace({'unknown': 1, \n",
    "                       'unemployed': 4,\n",
    "                       'student': 2,\n",
    "                       'housemaid': 4,\n",
    "                       'retired': 0,\n",
    "                       'self-employed': 4,\n",
    "                       'entrepreneur': 5,\n",
    "                       'admin.': 4,\n",
    "                       'blue-collar': 6,\n",
    "                       'management': 3,\n",
    "                       'services': 5,\n",
    "                       'technician': 4})\n",
    "previous_t = big_banks.previous\n",
    "housing_t = big_banks.housing\n",
    "housing_t = housing_t.replace({'no': 0, \n",
    "                               'yes': 1})\n",
    "pdays_t = big_banks.pdays\n",
    "y_t = big_banks.y\n",
    "y_t = y_t.replace({'no': 0, \n",
    "                   'yes': 1})"
   ]
  },
  {
   "cell_type": "code",
   "execution_count": 101,
   "metadata": {},
   "outputs": [
    {
     "data": {
      "text/html": [
       "<div>\n",
       "<style scoped>\n",
       "    .dataframe tbody tr th:only-of-type {\n",
       "        vertical-align: middle;\n",
       "    }\n",
       "\n",
       "    .dataframe tbody tr th {\n",
       "        vertical-align: top;\n",
       "    }\n",
       "\n",
       "    .dataframe thead th {\n",
       "        text-align: right;\n",
       "    }\n",
       "</style>\n",
       "<table border=\"1\" class=\"dataframe\">\n",
       "  <thead>\n",
       "    <tr style=\"text-align: right;\">\n",
       "      <th></th>\n",
       "      <th>duration</th>\n",
       "      <th>poutcome</th>\n",
       "      <th>contact</th>\n",
       "      <th>job</th>\n",
       "      <th>previous</th>\n",
       "      <th>housing</th>\n",
       "      <th>pdays</th>\n",
       "      <th>y</th>\n",
       "    </tr>\n",
       "  </thead>\n",
       "  <tbody>\n",
       "    <tr>\n",
       "      <th>0</th>\n",
       "      <td>261</td>\n",
       "      <td>0</td>\n",
       "      <td>0</td>\n",
       "      <td>3</td>\n",
       "      <td>0</td>\n",
       "      <td>1</td>\n",
       "      <td>-1</td>\n",
       "      <td>0</td>\n",
       "    </tr>\n",
       "    <tr>\n",
       "      <th>1</th>\n",
       "      <td>151</td>\n",
       "      <td>0</td>\n",
       "      <td>0</td>\n",
       "      <td>4</td>\n",
       "      <td>0</td>\n",
       "      <td>1</td>\n",
       "      <td>-1</td>\n",
       "      <td>0</td>\n",
       "    </tr>\n",
       "    <tr>\n",
       "      <th>2</th>\n",
       "      <td>76</td>\n",
       "      <td>0</td>\n",
       "      <td>0</td>\n",
       "      <td>5</td>\n",
       "      <td>0</td>\n",
       "      <td>1</td>\n",
       "      <td>-1</td>\n",
       "      <td>0</td>\n",
       "    </tr>\n",
       "    <tr>\n",
       "      <th>3</th>\n",
       "      <td>92</td>\n",
       "      <td>0</td>\n",
       "      <td>0</td>\n",
       "      <td>6</td>\n",
       "      <td>0</td>\n",
       "      <td>1</td>\n",
       "      <td>-1</td>\n",
       "      <td>0</td>\n",
       "    </tr>\n",
       "    <tr>\n",
       "      <th>4</th>\n",
       "      <td>198</td>\n",
       "      <td>0</td>\n",
       "      <td>0</td>\n",
       "      <td>1</td>\n",
       "      <td>0</td>\n",
       "      <td>0</td>\n",
       "      <td>-1</td>\n",
       "      <td>0</td>\n",
       "    </tr>\n",
       "  </tbody>\n",
       "</table>\n",
       "</div>"
      ],
      "text/plain": [
       "   duration  poutcome  contact  job  previous  housing  pdays  y\n",
       "0       261         0        0    3         0        1     -1  0\n",
       "1       151         0        0    4         0        1     -1  0\n",
       "2        76         0        0    5         0        1     -1  0\n",
       "3        92         0        0    6         0        1     -1  0\n",
       "4       198         0        0    1         0        0     -1  0"
      ]
     },
     "execution_count": 101,
     "metadata": {},
     "output_type": "execute_result"
    }
   ],
   "source": [
    "test_dict = {'duration': duration_t, \n",
    "              'poutcome': poutcome_t,\n",
    "              'contact': contact_t,\n",
    "              'job': job_t,\n",
    "              'previous': previous_t,\n",
    "              'housing': housing_t,\n",
    "              'pdays': pdays_t,\n",
    "              'y':y_t} \n",
    " \n",
    "df_test = pd.DataFrame(test_dict)\n",
    "df_test.head()"
   ]
  },
  {
   "cell_type": "code",
   "execution_count": 102,
   "metadata": {},
   "outputs": [
    {
     "data": {
      "text/html": [
       "<div>\n",
       "<style scoped>\n",
       "    .dataframe tbody tr th:only-of-type {\n",
       "        vertical-align: middle;\n",
       "    }\n",
       "\n",
       "    .dataframe tbody tr th {\n",
       "        vertical-align: top;\n",
       "    }\n",
       "\n",
       "    .dataframe thead th {\n",
       "        text-align: right;\n",
       "    }\n",
       "</style>\n",
       "<table border=\"1\" class=\"dataframe\">\n",
       "  <thead>\n",
       "    <tr style=\"text-align: right;\">\n",
       "      <th></th>\n",
       "      <th>duration</th>\n",
       "      <th>poutcome</th>\n",
       "      <th>contact</th>\n",
       "      <th>job</th>\n",
       "      <th>previous</th>\n",
       "      <th>housing</th>\n",
       "      <th>pdays</th>\n",
       "    </tr>\n",
       "  </thead>\n",
       "  <tbody>\n",
       "    <tr>\n",
       "      <th>0</th>\n",
       "      <td>261</td>\n",
       "      <td>0</td>\n",
       "      <td>0</td>\n",
       "      <td>3</td>\n",
       "      <td>0</td>\n",
       "      <td>1</td>\n",
       "      <td>-1</td>\n",
       "    </tr>\n",
       "    <tr>\n",
       "      <th>1</th>\n",
       "      <td>151</td>\n",
       "      <td>0</td>\n",
       "      <td>0</td>\n",
       "      <td>4</td>\n",
       "      <td>0</td>\n",
       "      <td>1</td>\n",
       "      <td>-1</td>\n",
       "    </tr>\n",
       "    <tr>\n",
       "      <th>2</th>\n",
       "      <td>76</td>\n",
       "      <td>0</td>\n",
       "      <td>0</td>\n",
       "      <td>5</td>\n",
       "      <td>0</td>\n",
       "      <td>1</td>\n",
       "      <td>-1</td>\n",
       "    </tr>\n",
       "    <tr>\n",
       "      <th>3</th>\n",
       "      <td>92</td>\n",
       "      <td>0</td>\n",
       "      <td>0</td>\n",
       "      <td>6</td>\n",
       "      <td>0</td>\n",
       "      <td>1</td>\n",
       "      <td>-1</td>\n",
       "    </tr>\n",
       "    <tr>\n",
       "      <th>4</th>\n",
       "      <td>198</td>\n",
       "      <td>0</td>\n",
       "      <td>0</td>\n",
       "      <td>1</td>\n",
       "      <td>0</td>\n",
       "      <td>0</td>\n",
       "      <td>-1</td>\n",
       "    </tr>\n",
       "  </tbody>\n",
       "</table>\n",
       "</div>"
      ],
      "text/plain": [
       "   duration  poutcome  contact  job  previous  housing  pdays\n",
       "0       261         0        0    3         0        1     -1\n",
       "1       151         0        0    4         0        1     -1\n",
       "2        76         0        0    5         0        1     -1\n",
       "3        92         0        0    6         0        1     -1\n",
       "4       198         0        0    1         0        0     -1"
      ]
     },
     "execution_count": 102,
     "metadata": {},
     "output_type": "execute_result"
    }
   ],
   "source": [
    "X_t = df_test.drop(['y'],axis=1)\n",
    "X_t.head()"
   ]
  },
  {
   "cell_type": "code",
   "execution_count": 103,
   "metadata": {},
   "outputs": [
    {
     "data": {
      "text/plain": [
       "0    0\n",
       "1    0\n",
       "2    0\n",
       "3    0\n",
       "4    0\n",
       "Name: y, dtype: int64"
      ]
     },
     "execution_count": 103,
     "metadata": {},
     "output_type": "execute_result"
    }
   ],
   "source": [
    "y_t = df_test.y\n",
    "y_t.head()"
   ]
  },
  {
   "cell_type": "code",
   "execution_count": 105,
   "metadata": {},
   "outputs": [
    {
     "data": {
      "text/plain": [
       "0.9028997367897194"
      ]
     },
     "execution_count": 105,
     "metadata": {},
     "output_type": "execute_result"
    }
   ],
   "source": [
    "best_clf.score(X_t,y_t)"
   ]
  },
  {
   "cell_type": "markdown",
   "metadata": {},
   "source": [
    "Модель показала себя приемлимо, на большом тестовом датасете точность оказалась всего на 2% меньше, чем на обучающем."
   ]
  }
 ],
 "metadata": {
  "kernelspec": {
   "display_name": "Python 3",
   "language": "python",
   "name": "python3"
  },
  "language_info": {
   "codemirror_mode": {
    "name": "ipython",
    "version": 3
   },
   "file_extension": ".py",
   "mimetype": "text/x-python",
   "name": "python",
   "nbconvert_exporter": "python",
   "pygments_lexer": "ipython3",
   "version": "3.7.3"
  }
 },
 "nbformat": 4,
 "nbformat_minor": 2
}
